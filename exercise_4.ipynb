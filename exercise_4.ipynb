{
 "cells": [
  {
   "cell_type": "markdown",
   "metadata": {},
   "source": [
    "# Nadi Furkan Açıkgöz, 20170808059 Exercise Answers"
   ]
  },
  {
   "cell_type": "markdown",
   "metadata": {},
   "source": [
    "# 9 Numpy"
   ]
  },
  {
   "cell_type": "markdown",
   "metadata": {},
   "source": [
    "## Generate matrices A, with random Gaussian entries, B, a Toeplitz matrix, where A ∈ R ^ n×m and B ∈ R ^ m×m, for n = 200, m = 500.\n",
    "### Exercise 9.1: Matrix operations\n",
    "### Calculate A + A, AA^T, A^TA and AB. Write a function that computes A(B − λI) for any λ."
   ]
  },
  {
   "cell_type": "code",
   "execution_count": 21,
   "metadata": {},
   "outputs": [
    {
     "name": "stdout",
     "output_type": "stream",
     "text": [
      "-> A + A: \n",
      "[[ 5.72009556  6.25464644  3.56701121  8.5564804   8.9998411 ]\n",
      " [ 2.45396987  6.26351739 12.32589471  3.60396228  3.99598107]]\n",
      "\n",
      "-> A * A^T: \n",
      "[[59.6935402  40.99501519]\n",
      " [40.99501519 56.53442683]]\n",
      "\n",
      "-> A^T * A: \n",
      "[[ 9.68536532 12.78691456 12.66275481 14.44697508 15.32149205]\n",
      " [12.78691456 19.58806303 24.87846244 19.02281001 20.32993024]\n",
      " [12.66275481 24.87846244 41.16281234 18.73578028 20.33914401]\n",
      " [14.44697508 19.02281001 18.73578028 21.55047522 22.85208224]\n",
      " [15.32149205 20.32993024 20.33914401 22.85208224 24.24125112]]\n",
      "\n",
      "-> A * B: \n",
      "[[8.36566996 6.9306705  6.45781856 7.16410583 7.68609311]\n",
      " [5.59874197 7.06239917 4.91223054 7.11261112 5.05469708]]\n",
      "\n",
      "-> A(B - λI): \n",
      "[[-179.27801616 -197.26205297 -214.28394226 -230.12669234 -246.1537424 ]\n",
      " [-138.67905281 -151.53705827 -168.00888955 -180.13017163 -196.50974832]]\n"
     ]
    }
   ],
   "source": [
    "import numpy as np\n",
    "# Because there was not a method to create Toeplitz matrix in numpy, I had to import toeplitz method in scipy library.\n",
    "from scipy.linalg import toeplitz \n",
    "\n",
    "\n",
    "n,m = 2,5\n",
    "# random.normal draws random samples from Gaussian distribution.\n",
    "A = np.random.normal(3, 1.1, size=(n, m))\n",
    "# Toeplitz matrix is the matrix which all the elements of the diagonal are the same. \n",
    "B = toeplitz(np.random.rand(1,m))\n",
    "\n",
    "print(f\"-> A + A: \\n{A+A}\\n\")\n",
    "print(f\"-> A * A^T: \\n{A.dot(A.transpose())}\\n\")\n",
    "print(f\"-> A^T * A: \\n{A.transpose().dot(A)}\\n\")\n",
    "print(f\"-> A * B: \\n{A.dot(B)}\\n\")\n",
    "\n",
    "# A(B − λI)\n",
    "def compute(A,B,lambda_):\n",
    "    # Creating the same length of row of lambda_ as identity matrix for multiplication.\n",
    "    I = np.identity(len(lambda_))\n",
    "    lambda_.dot(I)\n",
    "    result = B - lambda_\n",
    "    return A.dot(result)\n",
    "\n",
    "# lambda_ matrix can also be created using random library. For simplicity I used arrange method.\n",
    "lambda_ = np.arange(len(B)*len(B)).reshape(len(B),len(B))\n",
    "print(f'-> A(B - λI): \\n{compute(A,B,lambda_)}')\n",
    "\n"
   ]
  },
  {
   "cell_type": "markdown",
   "metadata": {},
   "source": [
    "### Exercise 9.2: Solving a linear system\n",
    "### Generate a vector b with m entries and solve Bx = b."
   ]
  },
  {
   "cell_type": "code",
   "execution_count": 24,
   "metadata": {},
   "outputs": [
    {
     "name": "stdout",
     "output_type": "stream",
     "text": [
      "[ -1.51622277 -23.24107645   1.73497186  25.56033727   2.20763715]\n"
     ]
    }
   ],
   "source": [
    "from numpy import linalg as LA\n",
    "\n",
    "b = np.arange(m)\n",
    "\n",
    "# We assume that matrix B is invertable to solve the equation. We multiply the inverse of B for the both side of equation.\n",
    "inv_B = LA.inv(B)\n",
    "x = b.dot(inv_B)\n",
    "print(x)"
   ]
  },
  {
   "cell_type": "markdown",
   "metadata": {},
   "source": [
    "### Exercise 9.3: Norms\n",
    "### Compute the Frobenius norm of A: ||A||_F and the infinity norm of B: ||B||_∞. Also find the largest and smallest singular values of B."
   ]
  },
  {
   "cell_type": "code",
   "execution_count": 25,
   "metadata": {},
   "outputs": [
    {
     "name": "stdout",
     "output_type": "stream",
     "text": [
      "Frobenius norm of A: 10.780907523211708\n",
      "Infinity norm of B: 2.2714438782336943\n",
      "max singular value: 2.1853516176473455 min singular value: 0.05771357240645074\n"
     ]
    }
   ],
   "source": [
    "fro_A = LA.norm(A, 'fro')\n",
    "\n",
    "def inf_norm(B):\n",
    "    return max(abs(row.sum()) for row in B)\n",
    "\n",
    "inf_B = inf_norm(B)\n",
    "\n",
    "print(f'Frobenius norm of A: {fro_A}')\n",
    "print(f'Infinity norm of B: {inf_B}')\n",
    "# s is the array of singular values of matrix B.\n",
    "u, s, vh = LA.svd(B)\n",
    "print(f'max singular value: {s.max()} min singular value: {s.min()}')"
   ]
  },
  {
   "cell_type": "markdown",
   "metadata": {},
   "source": [
    "### Exercise 9.6: Nearest neighbor\n",
    "### Write a function that takes a value z and an array A and finds the element in A that is closest to z. The function should return the closest value, not index.\n",
    "### Hint: Use the built-in functionality of Numpy rather than writing code to find this value manually. In particular, use brackets and argmin."
   ]
  },
  {
   "cell_type": "code",
   "execution_count": 56,
   "metadata": {},
   "outputs": [
    {
     "name": "stdout",
     "output_type": "stream",
     "text": [
      "9\n"
     ]
    }
   ],
   "source": [
    "# The idea here is that subtracting the value z from every element in array A to find the differences. And using the argmin()\n",
    "# function to find the smalles difference.\n",
    "def nearest_neighbor(z,A):\n",
    "    # Here we take the absolute value of difference for preventing negative values.\n",
    "    absolute_difference = np.abs(A - z)\n",
    "    return A[absolute_difference.argmin()]\n",
    "\n",
    "print(nearest_neighbor(8, np.array([1,2,3,5,2,12,23,4,9,67])))"
   ]
  }
 ],
 "metadata": {
  "interpreter": {
   "hash": "aee8b7b246df8f9039afb4144a1f6fd8d2ca17a180786b69acc140d282b71a49"
  },
  "kernelspec": {
   "display_name": "Python 3.9.6 64-bit",
   "language": "python",
   "name": "python3"
  },
  "language_info": {
   "codemirror_mode": {
    "name": "ipython",
    "version": 3
   },
   "file_extension": ".py",
   "mimetype": "text/x-python",
   "name": "python",
   "nbconvert_exporter": "python",
   "pygments_lexer": "ipython3",
   "version": "3.7.11"
  },
  "orig_nbformat": 4
 },
 "nbformat": 4,
 "nbformat_minor": 2
}
