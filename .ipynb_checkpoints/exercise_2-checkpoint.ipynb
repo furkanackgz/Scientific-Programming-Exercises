{
 "cells": [
  {
   "cell_type": "markdown",
   "metadata": {},
   "source": [
    "# Nadi Furkan Açıkgöz, 20170808059 Exercise Answers"
   ]
  },
  {
   "cell_type": "markdown",
   "metadata": {},
   "source": [
    "# 4 Lists"
   ]
  },
  {
   "cell_type": "markdown",
   "metadata": {},
   "source": [
    "## Exercise 4.1: Short questions"
   ]
  },
  {
   "cell_type": "markdown",
   "metadata": {},
   "source": [
    "### (a) Write a function that prints the elements of a list"
   ]
  },
  {
   "cell_type": "code",
   "execution_count": null,
   "metadata": {},
   "outputs": [
    {
     "name": "stdout",
     "output_type": "stream",
     "text": [
      "5, 6, 3, 42, 23, "
     ]
    }
   ],
   "source": [
    "def printList(list):\n",
    "    # Here, each element of the list assigned to iteration varibale i in each iteration interchangeably.\n",
    "    for i in list:\n",
    "        print(i, end=\", \")\n",
    "    \n",
    "printList([5,6,3,42,23])"
   ]
  },
  {
   "cell_type": "markdown",
   "metadata": {},
   "source": [
    "### (b) Write a function that prints the elements of a list in reverse\n"
   ]
  },
  {
   "cell_type": "code",
   "execution_count": null,
   "metadata": {},
   "outputs": [
    {
     "name": "stdout",
     "output_type": "stream",
     "text": [
      "23, 42, 3, 6, 5, "
     ]
    }
   ],
   "source": [
    "def printList(list):\n",
    "    # reverse() method is in place, built-in method for lists which reverse the lists.\n",
    "    list.reverse()\n",
    "    # Here, each element of the list assigned to iteration varibale i in each iteration interchangeably.\n",
    "    for i in list:\n",
    "        print(i, end=\", \")\n",
    "    \n",
    "printList([5,6,3,42,23])"
   ]
  },
  {
   "cell_type": "markdown",
   "metadata": {},
   "source": [
    "### (c) Write your own implementation of the len function that returns the number of elements in a list."
   ]
  },
  {
   "cell_type": "code",
   "execution_count": null,
   "metadata": {},
   "outputs": [
    {
     "name": "stdout",
     "output_type": "stream",
     "text": [
      "6\n"
     ]
    }
   ],
   "source": [
    "def length_of_lists(list):\n",
    "    # Here the length variable keeps track of the number of elements in a list\n",
    "    # by simply incrementing the variable value every time for loop variable i\n",
    "    # encounters an element.\n",
    "    length = 0\n",
    "    \n",
    "    for i in list:\n",
    "        length = length + 1\n",
    "\n",
    "    return length\n",
    "print(length_of_lists([1,2,3,4,5,6]))\n"
   ]
  },
  {
   "cell_type": "markdown",
   "metadata": {},
   "source": [
    "## Exercise 4.2: Copying lists"
   ]
  },
  {
   "cell_type": "markdown",
   "metadata": {},
   "source": [
    "### (a) Create a list a with some entries."
   ]
  },
  {
   "cell_type": "code",
   "execution_count": null,
   "metadata": {},
   "outputs": [],
   "source": [
    "a = [2,8,5,45,34,27]"
   ]
  },
  {
   "cell_type": "markdown",
   "metadata": {},
   "source": [
    "### (b) Now set b = a"
   ]
  },
  {
   "cell_type": "code",
   "execution_count": null,
   "metadata": {},
   "outputs": [],
   "source": [
    "b = a"
   ]
  },
  {
   "cell_type": "markdown",
   "metadata": {},
   "source": [
    "### (c) Change b[1]"
   ]
  },
  {
   "cell_type": "code",
   "execution_count": null,
   "metadata": {},
   "outputs": [
    {
     "data": {
      "text/plain": [
       "[2, 90, 5, 45, 34, 27]"
      ]
     },
     "metadata": {},
     "output_type": "display_data"
    }
   ],
   "source": [
    "b[1] = 90"
   ]
  },
  {
   "cell_type": "markdown",
   "metadata": {},
   "source": [
    "### (d) What happened to a?"
   ]
  },
  {
   "cell_type": "markdown",
   "metadata": {},
   "source": [
    "The second value of \"a\" also changed since we copy the reference value of \"a\" to \"b\", both of the variables refer to the same list. Therefore when we try to change the second value of \"b\", the second value of \"a\" will also change."
   ]
  },
  {
   "cell_type": "markdown",
   "metadata": {},
   "source": [
    "### (e) Now set c = a[:]"
   ]
  },
  {
   "cell_type": "code",
   "execution_count": null,
   "metadata": {},
   "outputs": [],
   "source": [
    "c = a[:]"
   ]
  },
  {
   "cell_type": "markdown",
   "metadata": {},
   "source": [
    "### (f) Change c[2]"
   ]
  },
  {
   "cell_type": "code",
   "execution_count": null,
   "metadata": {},
   "outputs": [],
   "source": [
    "c[2] = 56"
   ]
  },
  {
   "cell_type": "markdown",
   "metadata": {},
   "source": [
    "### (g) What happened to a?"
   ]
  },
  {
   "cell_type": "markdown",
   "metadata": {},
   "source": [
    "Nothing changed in \"a\" after updating the value of c[2]. Because, before this operation we did not copy the reference of list \"a\" to variable \"c\", but we copied the exact elements. So, those two variables refer to the two different lists and changing one's value won't affect the value of other's."
   ]
  },
  {
   "cell_type": "markdown",
   "metadata": {},
   "source": [
    "\n",
    "### Now create a function set_first_elem_to_zero(l) that takes a list, sets its first entry to zero, and returns the list.\n",
    "### What happens to the original list?"
   ]
  },
  {
   "cell_type": "code",
   "execution_count": null,
   "metadata": {},
   "outputs": [
    {
     "data": {
      "text/plain": [
       "[0, 2, 3, 4, 5, 6]"
      ]
     },
     "metadata": {},
     "output_type": "display_data"
    }
   ],
   "source": [
    "# Updating the first element of list to 0\n",
    "def set_first_elem_to_zero(l):\n",
    "    l[0] = 0\n",
    "    return l\n",
    "\n",
    "original = [1, 2, 3, 4, 5, 6]\n",
    "\n",
    "a = set_first_elem_to_zero(original)\n",
    "original\n"
   ]
  },
  {
   "cell_type": "markdown",
   "metadata": {},
   "source": [
    "What happens to original list is the same as copying the reference value of list from one variable to another. So, both the \"original\" and \"l\" variables refer to the same list therefore the original list's first element also set to 0."
   ]
  },
  {
   "cell_type": "markdown",
   "metadata": {},
   "source": [
    "## Exercise 4.3: Lists of lists"
   ]
  },
  {
   "cell_type": "markdown",
   "metadata": {},
   "source": [
    "### What is the difference between a and b:\n",
    "### a = [[]] * 3\n",
    "### b = [[] for _ in xrange(3)]"
   ]
  },
  {
   "cell_type": "markdown",
   "metadata": {},
   "source": [
    "There is no difference between \"a\" and \"b\" list. Because:\n",
    "\n",
    "The operation happened in \"a\" list is multiplying operation and which is for repeating the elements of the list as the specified number.\n",
    "\n",
    "And the operation happened in \"b\" list is list comprehention operation and which is so similary to the operation in \"a\" list because in this situation it also repeat what is written before the for keyword as the specified number defined in range fuction."
   ]
  },
  {
   "cell_type": "markdown",
   "metadata": {},
   "source": [
    "## Exercise 4.4: Lists and functions"
   ]
  },
  {
   "cell_type": "markdown",
   "metadata": {},
   "source": [
    "### Write a function that takes a list and an index, and sets the value of the list at the given index to 0."
   ]
  },
  {
   "cell_type": "code",
   "execution_count": null,
   "metadata": {},
   "outputs": [
    {
     "name": "stdout",
     "output_type": "stream",
     "text": [
      "[1, 2, 3, 4, 0]\n"
     ]
    }
   ],
   "source": [
    "def set_index_of_list_to_zero(l,index):\n",
    "    l[index] = 0\n",
    "    return l\n",
    "\n",
    "l = [1,2,3,4,5]\n",
    "\n",
    "print(set_index_of_list_to_zero(l,4))"
   ]
  },
  {
   "cell_type": "markdown",
   "metadata": {},
   "source": [
    "## Exercise 4.5: Primes"
   ]
  },
  {
   "cell_type": "markdown",
   "metadata": {},
   "source": [
    "### In Section 3 you wrote a function that prints all primes up to n, and a function that prints the first n primes. Update these functions such that they return lists instead."
   ]
  },
  {
   "cell_type": "markdown",
   "metadata": {},
   "source": [
    "Because I already wrote those function as it returns list, I just copied the same code here."
   ]
  },
  {
   "cell_type": "code",
   "execution_count": null,
   "metadata": {},
   "outputs": [],
   "source": [
    "# All primes up to n\n",
    "def all_primes(n):\n",
    "    primes = []\n",
    "    if n < 2:\n",
    "        print('Prime Numbers start with 2')\n",
    "    elif n == 2:\n",
    "        primes.append(2)\n",
    "    # Here I also added 3 because the note given in the question tells that it is only applicable to the prime \n",
    "    # numbers except 2 and 3.\n",
    "    elif n == 3:\n",
    "        primes.append(2)\n",
    "        primes.append(3)\n",
    "    else:\n",
    "    # I have to add 2 and 3 as well because loops start from 4 and if it is more than 2, then I have to add them.\n",
    "        primes.append(2)\n",
    "        primes.append(3)\n",
    "        for i in range(4, n+1):\n",
    "            # Using the special condition to speed up the operation.\n",
    "            if ((i-1) % 6 == 0) | ((i+1) % 6 == 0):\n",
    "                primes.append(i)\n",
    "    \n",
    "    return primes\n",
    "\n",
    "print(all_primes(29))\n",
    "\n",
    "# -----------------------------------------\n",
    "\n",
    "# The first n primes\n",
    "def first_n_primes(n):\n",
    "    primes = []\n",
    "\n",
    "    if n == 1:\n",
    "        primes.append(2)\n",
    "    elif n == 2:\n",
    "        primes.append(2)\n",
    "        primes.append(3)\n",
    "    else:\n",
    "        # adding 2 and 3 because it should be if the n is higher than 2.\n",
    "        primes.append(2)\n",
    "        primes.append(3)\n",
    "        size = 2\n",
    "        i = 4\n",
    "        # if size is not reached then keep going to find prime numbers by using special condition.\n",
    "        while size < n:\n",
    "            if ((i-1) % 6 == 0) | ((i+1) % 6 == 0):\n",
    "                primes.append(i)\n",
    "                size = size + 1\n",
    "            i = i + 1\n",
    "                    \n",
    "\n",
    "    return primes\n",
    "\n",
    "print(first_n_primes(10))"
   ]
  },
  {
   "cell_type": "markdown",
   "metadata": {},
   "source": [
    "## Exercise 4.6: List comprehensions"
   ]
  },
  {
   "cell_type": "markdown",
   "metadata": {},
   "source": [
    "### Let i,j = 1,...,n\n",
    "### (a) Generate a list with elements [i,j]."
   ]
  },
  {
   "cell_type": "code",
   "execution_count": 12,
   "metadata": {},
   "outputs": [
    {
     "name": "stdout",
     "output_type": "stream",
     "text": [
      "[1, 2, 3, 4, 5, 6, 7, 8]\n"
     ]
    }
   ],
   "source": [
    "i,j = 1,8\n",
    "# Here inside [] I defined a list comprehension to generate a list. List comprehension is a way that combine\n",
    "# loop with list to generate sequence of elements in a short way.\n",
    "l = [i for i in range(i,j+1)]\n",
    "print(l)\n"
   ]
  },
  {
   "cell_type": "markdown",
   "metadata": {},
   "source": []
  }
 ],
 "metadata": {
  "kernelspec": {
   "display_name": "Python 3",
   "language": "python",
   "name": "python3"
  },
  "language_info": {
   "codemirror_mode": {
    "name": "ipython",
    "version": 3
   },
   "file_extension": ".py",
   "mimetype": "text/x-python",
   "name": "python",
   "nbconvert_exporter": "python",
   "pygments_lexer": "ipython3",
   "version": "3.7.11"
  }
 },
 "nbformat": 4,
 "nbformat_minor": 2
}
