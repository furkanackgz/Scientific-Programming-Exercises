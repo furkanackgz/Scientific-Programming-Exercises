{
 "cells": [
  {
   "cell_type": "markdown",
   "metadata": {},
   "source": [
    "# Nadi Furkan Açıkgöz, 20170808059 Exercise Answers"
   ]
  },
  {
   "cell_type": "markdown",
   "metadata": {},
   "source": [
    "# 9 Numpy"
   ]
  },
  {
   "cell_type": "markdown",
   "metadata": {},
   "source": [
    "## Exercise 9.5: Singular values"
   ]
  },
  {
   "cell_type": "markdown",
   "metadata": {},
   "source": [
    "### Generate an n × n matrix, denoted by C, where each entry is 1 with probability p and 0 otherwise. Use the linear algebra library of Scipy to compute the singular values of C. What can you say about the relationship between n, p and the largest singular value?"
   ]
  },
  {
   "cell_type": "code",
   "execution_count": 24,
   "metadata": {},
   "outputs": [
    {
     "name": "stdout",
     "output_type": "stream",
     "text": [
      "largest singular value: 3.644261504430238\n",
      "\n",
      "The relationship between n,p and largest singular value is when the size (n)and probability (picking 1 or 0) changes the largest singular value also changes since it is related to them.\n"
     ]
    }
   ],
   "source": [
    "from scipy.sparse import linalg \n",
    "import numpy as np\n",
    "import numpy.random as rnd\n",
    "\n",
    "def generate_matrix(n,p):\n",
    "    C = np.empty((n,n))\n",
    "\n",
    "    for i in range(n):\n",
    "        for j in range(n):\n",
    "            C[i][j] = float(rnd.choice([0,1], p = [1-p,p]))\n",
    "    return C\n",
    "\n",
    "C = generate_matrix(10,0.3)\n",
    "u,s,v = linalg.svds(C, which='LM')\n",
    "print(f\"largest singular value: {s.max()}\")\n",
    "print(\"\\nThe relationship between n,p and largest singular value is when the size (n)\"\n",
    " \"and probability (picking 1 or 0) changes the largest singular value also changes since it is related to them.\")\n"
   ]
  },
  {
   "cell_type": "markdown",
   "metadata": {},
   "source": [
    "# 10 Scipy"
   ]
  },
  {
   "cell_type": "markdown",
   "metadata": {},
   "source": [
    "## Exercise 10.1: Least squares"
   ]
  },
  {
   "cell_type": "markdown",
   "metadata": {},
   "source": [
    "### Generate matrix A ∈ R^m×n with m > n. Also generate some vector b ∈ R^m.\n",
    "### Now find x = arg min_x ||Ax − b||_2.\n",
    "### Print the norm of the residual."
   ]
  },
  {
   "cell_type": "code",
   "execution_count": 34,
   "metadata": {},
   "outputs": [
    {
     "name": "stdout",
     "output_type": "stream",
     "text": [
      "46\n"
     ]
    }
   ],
   "source": [
    "import scipy.optimize as optimize\n",
    "\n",
    "n = 100\n",
    "m = 50\n",
    "A = np.random.normal(0, 1, (m, n))\n",
    "b = np.random.normal(0, 1, m)\n",
    "x = optimize.lsq_linear(A, b).x\n",
    "print(np.argmin(x))"
   ]
  },
  {
   "cell_type": "markdown",
   "metadata": {},
   "source": [
    "# 11 Matplotlib"
   ]
  },
  {
   "cell_type": "markdown",
   "metadata": {},
   "source": [
    "## Exercise 11.1: Plotting a function"
   ]
  },
  {
   "cell_type": "code",
   "execution_count": 30,
   "metadata": {},
   "outputs": [
    {
     "data": {
      "image/png": "[encoded data removed]",
      "text/plain": [
       "<Figure size 640x480 with 1 Axes>"
      ]
     },
     "metadata": {},
     "output_type": "display_data"
    }
   ],
   "source": [
    "import matplotlib.pyplot as plt\n",
    "\n",
    "def f(x):\n",
    "    return np.sin(x-2)**2 * np.exp(-x**2)\n",
    "    \n",
    "x = np.linspace(0,2,100)\n",
    "y = f(x)\n",
    "\n",
    "plt.plot(x, y)\n",
    "plt.xlabel('x')\n",
    "plt.ylabel('f(x)')\n",
    "plt.show()"
   ]
  }
 ],
 "metadata": {
  "interpreter": {
   "hash": "f295e9aa1b666b1e33b678c779b327c17531e725dc01fffcfd83403d4a7b4d1c"
  },
  "kernelspec": {
   "display_name": "Python 3.7.11 ('base')",
   "language": "python",
   "name": "python3"
  },
  "language_info": {
   "codemirror_mode": {
    "name": "ipython",
    "version": 3
   },
   "file_extension": ".py",
   "mimetype": "text/x-python",
   "name": "python",
   "nbconvert_exporter": "python",
   "pygments_lexer": "ipython3",
   "version": "3.7.11"
  },
  "orig_nbformat": 4
 },
 "nbformat": 4,
 "nbformat_minor": 2
}
