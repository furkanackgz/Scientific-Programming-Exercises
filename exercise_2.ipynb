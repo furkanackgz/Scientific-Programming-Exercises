{
 "cells": [
  {
   "cell_type": "markdown",
   "metadata": {},
   "source": [
    "# Nadi Furkan Açıkgöz, 20170808059 Exercise Answers"
   ]
  },
  {
   "cell_type": "markdown",
   "metadata": {},
   "source": [
    "# 4 Lists"
   ]
  },
  {
   "cell_type": "markdown",
   "metadata": {},
   "source": [
    "## Exercise 4.1: Short questions"
   ]
  },
  {
   "cell_type": "markdown",
   "metadata": {},
   "source": [
    "### (a) Write a function that prints the elements of a list"
   ]
  },
  {
   "cell_type": "code",
   "execution_count": null,
   "metadata": {},
   "outputs": [
    {
     "name": "stdout",
     "output_type": "stream",
     "text": [
      "5, 6, 3, 42, 23, "
     ]
    }
   ],
   "source": [
    "def printList(list):\n",
    "    # Here, each element of the list assigned to iteration varibale i in each iteration interchangeably.\n",
    "    for i in list:\n",
    "        print(i, end=\", \")\n",
    "    \n",
    "printList([5,6,3,42,23])"
   ]
  },
  {
   "cell_type": "markdown",
   "metadata": {},
   "source": [
    "### (b) Write a function that prints the elements of a list in reverse\n"
   ]
  },
  {
   "cell_type": "code",
   "execution_count": null,
   "metadata": {},
   "outputs": [
    {
     "name": "stdout",
     "output_type": "stream",
     "text": [
      "23, 42, 3, 6, 5, "
     ]
    }
   ],
   "source": [
    "def printList(list):\n",
    "    # reverse() method is in place, built-in method for lists which reverse the lists.\n",
    "    list.reverse()\n",
    "    # Here, each element of the list assigned to iteration varibale i in each iteration interchangeably.\n",
    "    for i in list:\n",
    "        print(i, end=\", \")\n",
    "    \n",
    "printList([5,6,3,42,23])"
   ]
  },
  {
   "cell_type": "markdown",
   "metadata": {},
   "source": [
    "### (c) Write your own implementation of the len function that returns the number of elements in a list."
   ]
  },
  {
   "cell_type": "code",
   "execution_count": null,
   "metadata": {},
   "outputs": [
    {
     "name": "stdout",
     "output_type": "stream",
     "text": [
      "6\n"
     ]
    }
   ],
   "source": [
    "def length_of_lists(list):\n",
    "    # Here the length variable keeps track of the number of elements in a list\n",
    "    # by simply incrementing the variable value every time for loop variable i\n",
    "    # encounters an element.\n",
    "    length = 0\n",
    "    \n",
    "    for i in list:\n",
    "        length = length + 1\n",
    "\n",
    "    return length\n",
    "print(length_of_lists([1,2,3,4,5,6]))\n"
   ]
  },
  {
   "cell_type": "markdown",
   "metadata": {},
   "source": [
    "## Exercise 4.2: Copying lists"
   ]
  },
  {
   "cell_type": "markdown",
   "metadata": {},
   "source": [
    "### (a) Create a list a with some entries."
   ]
  },
  {
   "cell_type": "code",
   "execution_count": null,
   "metadata": {},
   "outputs": [],
   "source": [
    "a = [2,8,5,45,34,27]"
   ]
  },
  {
   "cell_type": "markdown",
   "metadata": {},
   "source": [
    "### (b) Now set b = a"
   ]
  },
  {
   "cell_type": "code",
   "execution_count": null,
   "metadata": {},
   "outputs": [],
   "source": [
    "b = a"
   ]
  },
  {
   "cell_type": "markdown",
   "metadata": {},
   "source": [
    "### (c) Change b[1]"
   ]
  },
  {
   "cell_type": "code",
   "execution_count": null,
   "metadata": {},
   "outputs": [
    {
     "data": {
      "text/plain": [
       "[2, 90, 5, 45, 34, 27]"
      ]
     },
     "metadata": {},
     "output_type": "display_data"
    }
   ],
   "source": [
    "b[1] = 90"
   ]
  },
  {
   "cell_type": "markdown",
   "metadata": {},
   "source": [
    "### (d) What happened to a?"
   ]
  },
  {
   "cell_type": "markdown",
   "metadata": {},
   "source": [
    "The second value of \"a\" also changed since we copy the reference value of \"a\" to \"b\", both of the variables refer to the same list. Therefore when we try to change the second value of \"b\", the second value of \"a\" will also change."
   ]
  },
  {
   "cell_type": "markdown",
   "metadata": {},
   "source": [
    "### (e) Now set c = a[:]"
   ]
  },
  {
   "cell_type": "code",
   "execution_count": null,
   "metadata": {},
   "outputs": [],
   "source": [
    "c = a[:]"
   ]
  },
  {
   "cell_type": "markdown",
   "metadata": {},
   "source": [
    "### (f) Change c[2]"
   ]
  },
  {
   "cell_type": "code",
   "execution_count": null,
   "metadata": {},
   "outputs": [],
   "source": [
    "c[2] = 56"
   ]
  },
  {
   "cell_type": "markdown",
   "metadata": {},
   "source": [
    "### (g) What happened to a?"
   ]
  },
  {
   "cell_type": "markdown",
   "metadata": {},
   "source": [
    "Nothing changed in \"a\" after updating the value of c[2]. Because, before this operation we did not copy the reference of list \"a\" to variable \"c\", but we copied the exact elements. So, those two variables refer to the two different lists and changing one's value won't affect the value of other's."
   ]
  },
  {
   "cell_type": "markdown",
   "metadata": {},
   "source": [
    "\n",
    "### Now create a function set_first_elem_to_zero(l) that takes a list, sets its first entry to zero, and returns the list.\n",
    "### What happens to the original list?"
   ]
  },
  {
   "cell_type": "code",
   "execution_count": null,
   "metadata": {},
   "outputs": [
    {
     "data": {
      "text/plain": [
       "[0, 2, 3, 4, 5, 6]"
      ]
     },
     "metadata": {},
     "output_type": "display_data"
    }
   ],
   "source": [
    "# Updating the first element of list to 0\n",
    "def set_first_elem_to_zero(l):\n",
    "    l[0] = 0\n",
    "    return l\n",
    "\n",
    "original = [1, 2, 3, 4, 5, 6]\n",
    "\n",
    "a = set_first_elem_to_zero(original)\n",
    "original\n"
   ]
  },
  {
   "cell_type": "markdown",
   "metadata": {},
   "source": [
    "What happens to original list is the same as copying the reference value of list from one variable to another. So, both the \"original\" and \"l\" variables refer to the same list therefore the original list's first element also set to 0."
   ]
  },
  {
   "cell_type": "markdown",
   "metadata": {},
   "source": [
    "## Exercise 4.3: Lists of lists"
   ]
  },
  {
   "cell_type": "markdown",
   "metadata": {},
   "source": [
    "### What is the difference between a and b:\n",
    "### a = [[]] * 3\n",
    "### b = [[] for _ in xrange(3)]"
   ]
  },
  {
   "cell_type": "markdown",
   "metadata": {},
   "source": [
    "There is no difference between \"a\" and \"b\" list. Because:\n",
    "\n",
    "The operation happened in \"a\" list is multiplying operation and which is for repeating the elements of the list as the specified number.\n",
    "\n",
    "And the operation happened in \"b\" list is list comprehention operation and which is so similary to the operation in \"a\" list because in this situation it also repeat what is written before the for keyword as the specified number defined in range fuction."
   ]
  },
  {
   "cell_type": "markdown",
   "metadata": {},
   "source": [
    "## Exercise 4.4: Lists and functions"
   ]
  },
  {
   "cell_type": "markdown",
   "metadata": {},
   "source": [
    "### Write a function that takes a list and an index, and sets the value of the list at the given index to 0."
   ]
  },
  {
   "cell_type": "code",
   "execution_count": null,
   "metadata": {},
   "outputs": [
    {
     "name": "stdout",
     "output_type": "stream",
     "text": [
      "[1, 2, 3, 4, 0]\n"
     ]
    }
   ],
   "source": [
    "def set_index_of_list_to_zero(l,index):\n",
    "    l[index] = 0\n",
    "    return l\n",
    "\n",
    "l = [1,2,3,4,5]\n",
    "\n",
    "print(set_index_of_list_to_zero(l,4))"
   ]
  },
  {
   "cell_type": "markdown",
   "metadata": {},
   "source": [
    "## Exercise 4.5: Primes"
   ]
  },
  {
   "cell_type": "markdown",
   "metadata": {},
   "source": [
    "### In Section 3 you wrote a function that prints all primes up to n, and a function that prints the first n primes. Update these functions such that they return lists instead."
   ]
  },
  {
   "cell_type": "markdown",
   "metadata": {},
   "source": [
    "Because I already wrote those function as it returns list, I just copied the same code here."
   ]
  },
  {
   "cell_type": "code",
   "execution_count": 14,
   "metadata": {},
   "outputs": [
    {
     "name": "stdout",
     "output_type": "stream",
     "text": [
      "All primes: [2, 3, 5, 7, 11, 13, 17, 19, 23, 25, 29]\n",
      "First n primes: [2, 3, 5, 7, 11, 13, 17, 19, 23, 25]\n"
     ]
    }
   ],
   "source": [
    "# All primes up to n\n",
    "def all_primes(n):\n",
    "    primes = []\n",
    "    if n < 2:\n",
    "        print('Prime Numbers start with 2')\n",
    "    elif n == 2:\n",
    "        primes.append(2)\n",
    "    # Here I also added 3 because the note given in the question tells that it is only applicable to the prime \n",
    "    # numbers except 2 and 3.\n",
    "    elif n == 3:\n",
    "        primes.append(2)\n",
    "        primes.append(3)\n",
    "    else:\n",
    "    # I have to add 2 and 3 as well because loops start from 4 and if it is more than 2, then I have to add them.\n",
    "        primes.append(2)\n",
    "        primes.append(3)\n",
    "        for i in range(4, n+1):\n",
    "            # Using the special condition to speed up the operation.\n",
    "            if ((i-1) % 6 == 0) | ((i+1) % 6 == 0):\n",
    "                primes.append(i)\n",
    "    \n",
    "    return primes\n",
    "\n",
    "print(f\"All primes: {all_primes(29)}\")\n",
    "\n",
    "# -----------------------------------------\n",
    "\n",
    "# The first n primes\n",
    "def first_n_primes(n):\n",
    "    primes = []\n",
    "\n",
    "    if n == 1:\n",
    "        primes.append(2)\n",
    "    elif n == 2:\n",
    "        primes.append(2)\n",
    "        primes.append(3)\n",
    "    else:\n",
    "        # adding 2 and 3 because it should be if the n is higher than 2.\n",
    "        primes.append(2)\n",
    "        primes.append(3)\n",
    "        size = 2\n",
    "        i = 4\n",
    "        # if size is not reached then keep going to find prime numbers by using special condition.\n",
    "        while size < n:\n",
    "            if ((i-1) % 6 == 0) | ((i+1) % 6 == 0):\n",
    "                primes.append(i)\n",
    "                size = size + 1\n",
    "            i = i + 1\n",
    "                    \n",
    "\n",
    "    return primes\n",
    "\n",
    "print(f\"First n primes: {first_n_primes(10)}\")"
   ]
  },
  {
   "cell_type": "markdown",
   "metadata": {},
   "source": [
    "## Exercise 4.6: List comprehensions"
   ]
  },
  {
   "cell_type": "markdown",
   "metadata": {},
   "source": [
    "### Let i,j = 1,...,n\n",
    "### (a) Generate a list with elements [i,j]."
   ]
  },
  {
   "cell_type": "code",
   "execution_count": 82,
   "metadata": {},
   "outputs": [
    {
     "name": "stdout",
     "output_type": "stream",
     "text": [
      "[[1, 1], [1, 2], [1, 3], [1, 4], [1, 5], [1, 6], [1, 7], [1, 8], [1, 9], [2, 1], [2, 2], [2, 3], [2, 4], [2, 5], [2, 6], [2, 7], [2, 8], [2, 9], [3, 1], [3, 2], [3, 3], [3, 4], [3, 5], [3, 6], [3, 7], [3, 8], [3, 9], [4, 1], [4, 2], [4, 3], [4, 4], [4, 5], [4, 6], [4, 7], [4, 8], [4, 9], [5, 1], [5, 2], [5, 3], [5, 4], [5, 5], [5, 6], [5, 7], [5, 8], [5, 9], [6, 1], [6, 2], [6, 3], [6, 4], [6, 5], [6, 6], [6, 7], [6, 8], [6, 9], [7, 1], [7, 2], [7, 3], [7, 4], [7, 5], [7, 6], [7, 7], [7, 8], [7, 9], [8, 1], [8, 2], [8, 3], [8, 4], [8, 5], [8, 6], [8, 7], [8, 8], [8, 9], [9, 1], [9, 2], [9, 3], [9, 4], [9, 5], [9, 6], [9, 7], [9, 8], [9, 9]]\n"
     ]
    }
   ],
   "source": [
    "# What I understand from this \"Let i,j = 1,...,n\" is both i and j can be from a range of numbers starting from 1 to\n",
    "# specified number and this is what I defined in range() method.\n",
    "# Here, inside [] I defined a list comprehension to generate a list consist of [i,j] elements using nested loops for both i and j variables.\n",
    "# List comprehension is a way to combine for loop with list to generate sequence of elements in a short way.\n",
    "\n",
    "# Here I chose the value of n as 10.\n",
    "n = 10\n",
    "\n",
    "l = [[i,j] for i in range(1,n) for j in range(1,n)]\n",
    "print(l)\n"
   ]
  },
  {
   "cell_type": "markdown",
   "metadata": {},
   "source": [
    "### (b) Generate a list with elements [i,j] with i < j"
   ]
  },
  {
   "cell_type": "code",
   "execution_count": 81,
   "metadata": {},
   "outputs": [
    {
     "name": "stdout",
     "output_type": "stream",
     "text": [
      "[[1, 2], [1, 3], [1, 4], [1, 5], [1, 6], [1, 7], [1, 8], [1, 9], [2, 3], [2, 4], [2, 5], [2, 6], [2, 7], [2, 8], [2, 9], [3, 4], [3, 5], [3, 6], [3, 7], [3, 8], [3, 9], [4, 5], [4, 6], [4, 7], [4, 8], [4, 9], [5, 6], [5, 7], [5, 8], [5, 9], [6, 7], [6, 8], [6, 9], [7, 8], [7, 9], [8, 9]]\n"
     ]
    }
   ],
   "source": [
    "# The if statement defined in nested for loops checks whether i is smaller than j variable and\n",
    "#  if it is then it uses those values to create list.\n",
    "\n",
    "# Here I chose the value of n as 10.\n",
    "n = 10\n",
    "\n",
    "l = [[i,j] for i in range(1,10) for j in range(1,10) if i < j]\n",
    "print(l)\n"
   ]
  },
  {
   "cell_type": "markdown",
   "metadata": {},
   "source": [
    "### (c) Generate a list with elements i + j with both i and j prime and i > j."
   ]
  },
  {
   "cell_type": "code",
   "execution_count": 6,
   "metadata": {},
   "outputs": [
    {
     "name": "stdout",
     "output_type": "stream",
     "text": [
      "[5, 7, 8, 9, 10, 12]\n"
     ]
    }
   ],
   "source": [
    "# Here I used my previous code for finding out whether the given number is prime.\n",
    "def is_prime(n):\n",
    "    # if n is less then 2 then do nothing because prime numbers start with 2.\n",
    "    if n < 2:\n",
    "        print('Prime Numbers start with 2!')\n",
    "    # Because 2 is special condition for prime numbers I seperated it.\n",
    "    elif n == 2:\n",
    "        return True\n",
    "    # If it is bigger than 2 then check it with numbers starting from 2 to until its own value\n",
    "    # to see whether there is a number that divides it. If there is return False if not return True.\n",
    "    else:\n",
    "        for i in range(2,n):\n",
    "            if n % i == 0:\n",
    "                return False\n",
    "        return True\n",
    "\n",
    "# Here I chose the value of n as 10.\n",
    "n = 10\n",
    "\n",
    "# Below list comprehension method checks whether the values i and j is prime and i > j. According to that creates a\n",
    "# a list l consist of i + j elements.\n",
    "l = [ i+j for i in range(2,n) for j in range(2,n) if (i > j) & ((is_prime(i)) & (is_prime(j)))]\n",
    "print(l)"
   ]
  },
  {
   "cell_type": "markdown",
   "metadata": {},
   "source": [
    "### (d) Write a function that evaluates an arbitrary polynomial a0 + a1x + a2x2 + . . . + anxn using a list comprehension, where you are given x and a list with coefficients coefs (hint: use enumerate)"
   ]
  },
  {
   "cell_type": "code",
   "execution_count": 24,
   "metadata": {},
   "outputs": [
    {
     "name": "stdout",
     "output_type": "stream",
     "text": [
      "129\n"
     ]
    }
   ],
   "source": [
    "def eval_polynomial(x,coefs):\n",
    "    # enumerate() function returns two values. The first one is index number of each element in the list given to it and the second one is the\n",
    "    # element itself. \n",
    "    l = [ a * (x**i) for i,a in enumerate(coefs)]\n",
    "    # After list comprehension is completed each element of newly created list \"l\" holds each value of polynomial. So, before returning I sum all\n",
    "    # the elements of the list \"l\" to return the result of polynomial.\n",
    "    return sum(l)\n",
    "    \n",
    "result = eval_polynomial(2, [1,2,3,4,5])\n",
    "print(result)"
   ]
  },
  {
   "cell_type": "markdown",
   "metadata": {},
   "source": [
    "## Exercise 4.7: Filter"
   ]
  },
  {
   "cell_type": "markdown",
   "metadata": {},
   "source": [
    "### In lecture we have seen how to implement map using list comprehensions. Implement filter using list comprehensions. Name your functions myfilter so you can compare with Python’s standard filter."
   ]
  },
  {
   "cell_type": "code",
   "execution_count": 32,
   "metadata": {},
   "outputs": [
    {
     "name": "stdout",
     "output_type": "stream",
     "text": [
      "My result: [0, 2, 4, 6]\n",
      "filter() result: [0, 2, 4, 6]\n"
     ]
    }
   ],
   "source": [
    "l = [0,1,2,3,4,5,6]\n",
    "\n",
    "# This is my_filter function I did as a solution.\n",
    "def my_filter(l):\n",
    "    # Here I elliminate the odd valued elements from the given list and take the rest to perform similar to Python's filter() method.\n",
    "    my_list = [x for x in l if x % 2 == 0]\n",
    "    return my_list\n",
    "\n",
    "my_result = my_filter(l)\n",
    "print(f\"My result: {my_result}\")\n",
    "\n",
    "# This is Python's built in funtion filter which takes a Boolean-valued function and a list. It elliminates the values which the parameter \n",
    "# function gives false result.\n",
    "result = filter(lambda x: x % 2 == 0, l)\n",
    "# Here I had to convert result variable to list object because filter function returns a filter object.\n",
    "result = list(result)\n",
    "print(f\"filter() result: {result}\")\n",
    "\n"
   ]
  },
  {
   "cell_type": "markdown",
   "metadata": {},
   "source": [
    "## Exercise 4.8: Flatten a list of lists"
   ]
  },
  {
   "cell_type": "markdown",
   "metadata": {},
   "source": [
    "### Consider having a list with lists as elements, e.g. [[1,3], [3,6]].\n",
    "### Write a function that takes such a list, and returns a list with as elements the elements of the sublists,\n",
    "### e.g. [1, 3, 3, 6]."
   ]
  },
  {
   "cell_type": "code",
   "execution_count": 35,
   "metadata": {},
   "outputs": [
    {
     "name": "stdout",
     "output_type": "stream",
     "text": [
      "[1, 3, 3, 6]\n"
     ]
    }
   ],
   "source": [
    "# flatten function works with nested loops and the outer loop takes lists as elements of list  e.g. [1,3].\n",
    "# The inner loop takes the values of list which are the outer loop's elements and gather them in result list.\n",
    "def flatten(l):\n",
    "    result = []\n",
    "    # i is a list inside the list. e.g. [1,3]\n",
    "    for i in l:\n",
    "        # j is the elements of a list. e.g. 1,3\n",
    "        for j in i:\n",
    "            result.append(j)\n",
    "    return result\n",
    "\n",
    "result = flatten([[1,3], [3,6]])\n",
    "print(result)"
   ]
  },
  {
   "cell_type": "markdown",
   "metadata": {},
   "source": [
    "## Exercise 4.9: Finding the longest word"
   ]
  },
  {
   "cell_type": "markdown",
   "metadata": {},
   "source": [
    "### Write a function that returns the longest word in a variable text that contains a sentence. While text may contain punctuation, these should not be taken into account. What happens with ties?\n",
    "### As an example, consider: “Hello, how was the football match earlier today???”"
   ]
  },
  {
   "cell_type": "code",
   "execution_count": 43,
   "metadata": {},
   "outputs": [
    {
     "name": "stdout",
     "output_type": "stream",
     "text": [
      "Hellohowwasthefootballmatchearliertoday\n"
     ]
    }
   ],
   "source": [
    "# to get lowercase and uppercase alphabet I import string library.\n",
    "import string as str\n",
    "\n",
    "def longest_word(sentence):\n",
    "    # Here I join both lowercase and uppercase alphabets to ensure that when sentence charachters are checked by it\n",
    "    # there will be no jump of alphabet.\n",
    "    alphabet = str.ascii_lowercase.join(str.ascii_uppercase)\n",
    "\n",
    "    # Here I used list comprehension to elliminate other than alphabets.\n",
    "    chars = [_ for _ in sentence if _ in alphabet]\n",
    "    #And here I concatenate list of chars to produce one word.\n",
    "    return \"\".join(chars)\n",
    "\n",
    "sentence = \"Hello, how was the football match earlier today???\"\n",
    "\n",
    "result = longest_word(sentence)\n",
    "print(result)"
   ]
  },
  {
   "cell_type": "markdown",
   "metadata": {},
   "source": [
    "## Exercise 4.10: Collatz sequence, part 2"
   ]
  },
  {
   "cell_type": "markdown",
   "metadata": {},
   "source": [
    "### Recall the Collatz sequence problem from Section 1. Our goal is to find the number n < 1, 000, 000 that leads to the longest Collatz sequence.\n",
    "### (a) Write a function that for any n, returns its Collatz sequence as a list"
   ]
  },
  {
   "cell_type": "code",
   "execution_count": 96,
   "metadata": {},
   "outputs": [
    {
     "name": "stdout",
     "output_type": "stream",
     "text": [
      "length of array: 114\n"
     ]
    }
   ],
   "source": [
    "# In this method, instead of printing each value of Collatz Sequence in each iteration, I keep them in an array called\n",
    "# \"seq\" and in the end I return it as a result.\n",
    "def collatz_seq(n):\n",
    "    seq = []\n",
    "    # Loop iterates until 1 is reached because every Collatz sequence ends at 1 and it does not include 1. \n",
    "    # Beacuse then sequence will not end properly.\n",
    "    while n > 1:\n",
    "        seq.append(n)\n",
    "        # The first condition \n",
    "        if n % 2 == 0:\n",
    "            n = int(n / 2)\n",
    "        # Second condition\n",
    "        else:\n",
    "            n = 3 * n +1\n",
    "    # Adding the last member of sequence which is 1.\n",
    "    seq.append(n)\n",
    "    return seq\n",
    "\n",
    "result = collatz_seq(999985)\n",
    "#print(result)\n",
    "print(f\"length of array: {len(result)}\")"
   ]
  },
  {
   "cell_type": "markdown",
   "metadata": {},
   "source": [
    "### (b) Write a function that finds the integer x that leads to the longest Collatz sequence with x < n."
   ]
  },
  {
   "cell_type": "code",
   "execution_count": 138,
   "metadata": {},
   "outputs": [
    {
     "name": "stdout",
     "output_type": "stream",
     "text": [
      "The number x that leads to longest seqence: 77031 less than 100000\n"
     ]
    }
   ],
   "source": [
    "# To get collatz sequence I used my previous algorithm.\n",
    "def collatz_seq(n):\n",
    "    seq = []\n",
    "    # Loop iterates until 1 is reached because every Collatz sequence ends at 1 and it does not include 1. \n",
    "    # Beacuse then sequence will not end properly.\n",
    "    while n > 1:\n",
    "        seq.append(n)\n",
    "        # The first condition \n",
    "        if n % 2 == 0:\n",
    "            n = int(n / 2)\n",
    "        # Second condition\n",
    "        else:\n",
    "            n = 3 * n +1\n",
    "    # Adding the last member of sequence which is 1.\n",
    "    seq.append(n)\n",
    "    return seq\n",
    "# I chose n as 100.000\n",
    "n = 100000\n",
    "\n",
    "# Here I define longest and x variables to examine biggest x < n.\n",
    "longest = 0\n",
    "x = 0\n",
    "for i in range(n): \n",
    "    # The length variable holds the length of seq of spesific i value.\n",
    "    length = len(collatz_seq(i))\n",
    "    # If length of seq of spesific i value is bigger than previous longest length of seq and assign new value to longest\n",
    "    if length > longest:\n",
    "        longest = length\n",
    "        # And of course assign the number that leads to length that is bigger than the previous longest length.\n",
    "        x = i\n",
    "\n",
    "print(f\"The number x that leads to longest seqence: {x} less than {n}\")"
   ]
  },
  {
   "cell_type": "markdown",
   "metadata": {},
   "source": [
    "## Exercise 4.11: Pivots"
   ]
  },
  {
   "cell_type": "markdown",
   "metadata": {},
   "source": [
    "### Write a function that takes a value x and a list ys, and returns a list that contains the value x and all elements of ys such that all values y in ys that are smaller than x come first, then we element x and then the rest of the values in ys\n",
    "### For example, the output of f(3, [6, 4, 1, 7]) should be [1, 3, 6, 4, 7]"
   ]
  },
  {
   "cell_type": "code",
   "execution_count": 50,
   "metadata": {},
   "outputs": [
    {
     "data": {
      "text/plain": [
       "[1, 3, 6, 4, 7]"
      ]
     },
     "execution_count": 50,
     "metadata": {},
     "output_type": "execute_result"
    }
   ],
   "source": [
    "def combine(x,ys):\n",
    "    result = []\n",
    "    # Below list comprehension gives the array which contains smaller values than given x value.\n",
    "    smaller = [y for y in ys if y < x]\n",
    "    # Here I concatenate smaller values into result array.\n",
    "    result = result + smaller\n",
    "    # And this below list comprehension gives the array of bigger values than given x value.\n",
    "    bigger = [y for y in ys if y > x]\n",
    "    # Before concatenating bit bigger values array, I put x.\n",
    "    result.append(x)\n",
    "    # After putting the x, I again concatenate bigger array with result array.\n",
    "    result = result + bigger\n",
    "\n",
    "    return result\n",
    "\n",
    "combine(3, [6,4,1,7])"
   ]
  },
  {
   "cell_type": "markdown",
   "metadata": {},
   "source": [
    "## Exercise 4.12: Prime challenge"
   ]
  },
  {
   "cell_type": "markdown",
   "metadata": {},
   "source": [
    "### Write the function primes(n) that return a list with all prime numbers up to n using three (or less) lines of code.\n",
    "### Hint 1: Use lambda functions and list comprehensions.\n",
    "### Hint 2: Use the first two lines to define two helper (lambda) functions."
   ]
  },
  {
   "cell_type": "code",
   "execution_count": 13,
   "metadata": {},
   "outputs": [
    {
     "name": "stdout",
     "output_type": "stream",
     "text": [
      "[2, 3, 5, 7, 11, 13, 17, 19, 23, 29, 31, 37, 41, 43, 47, 53, 59, 61, 67, 71, 73, 79, 83, 89, 97]\n"
     ]
    }
   ],
   "source": [
    "# I chose n as 100 and used is_prime() function to check each iteration value whether they are prime if they are,\n",
    "# add it to the list.\n",
    "primes = lambda n: [i for i in range(2, 100) if is_prime(i)]\n",
    "print(primes(n))"
   ]
  },
  {
   "cell_type": "markdown",
   "metadata": {},
   "source": [
    "# 5 Tuples"
   ]
  },
  {
   "cell_type": "markdown",
   "metadata": {},
   "source": [
    "## Exercise 5.1: Swapping two values"
   ]
  },
  {
   "cell_type": "markdown",
   "metadata": {},
   "source": [
    "### Suppose you have two variables: a and b. Now you want to set a equal to the value of b and at the same time set b equal to the value of a.\n"
   ]
  },
  {
   "cell_type": "markdown",
   "metadata": {},
   "source": [
    "### The following obviously does not work\n",
    "### a=b \n",
    "### b=a\n",
    "### so in some languages, you need to define a third variable like this\n",
    "### t=a\n",
    "### a=b\n",
    "### b=t\n",
    "### However, in Python you don’t need to do this. How can you swap a and b in one line?"
   ]
  },
  {
   "cell_type": "code",
   "execution_count": 65,
   "metadata": {},
   "outputs": [
    {
     "name": "stdout",
     "output_type": "stream",
     "text": [
      "Before the swap a : 1, b : 5\n",
      "After the swap a : 5, b : 1\n"
     ]
    }
   ],
   "source": [
    "a,b = 1, 5\n",
    "print(f\"Before the swap a : {a}, b : {b}\" )\n",
    "# Here is the single line which the swap operation is done. This statement actually corresponds to a tuple and it's name\n",
    "# is unpacking assingment.\n",
    "a, b = b, a\n",
    "print(f\"After the swap a : {a}, b : {b}\")"
   ]
  },
  {
   "cell_type": "markdown",
   "metadata": {},
   "source": [
    "## Exercise 5.2: Zip"
   ]
  },
  {
   "cell_type": "markdown",
   "metadata": {},
   "source": [
    "### Suppose we have two lists, x and y that give the x and y coordinates of a set of points. Create a list with the coordinates (x,y) as a tuple. Hint: Find out about the zip function.\n",
    "### You have decided that actually, you need the two seperate lists, but unfortunately, you have thrown them away. How can we use zip to unzip the list of tuples to get two lists again?"
   ]
  },
  {
   "cell_type": "code",
   "execution_count": 86,
   "metadata": {},
   "outputs": [
    {
     "name": "stdout",
     "output_type": "stream",
     "text": [
      "Before zipping x: [1, 3, 5, 2, 9, 3]\n",
      "Before zipping y: [3, 1, 5, 2, 7, 4]\n",
      "\n",
      "Zipped version of two lists: [(1, 3), (3, 1), (5, 5), (2, 2), (9, 7), (3, 4)]\n",
      "\n",
      "Unzipped x coordinate list: (1, 3, 5, 2, 9, 3)\n",
      "Unzipped y coordinate list: (3, 1, 5, 2, 7, 4)\n"
     ]
    }
   ],
   "source": [
    "x = [1,3,5,2,9,3]\n",
    "y = [3,1,5,2,7,4]\n",
    "print(f\"Before zipping x: {x}\")\n",
    "print(f\"Before zipping y: {y}\")\n",
    "\n",
    "# zip() function gather two tuples together and create new tuple according to the same indexes of those tuples sent\n",
    "# zip() method as an arguments. If we want to get list in the end we need to do casting operation.\n",
    "coordinates = list(zip(x,y))\n",
    "print(f\"\\nZipped version of two lists: {coordinates}\")\n",
    "\n",
    "# zip(*coordinates) will unzip the already zipped tuple and create a tuple which consist of paired elements of tuples\n",
    "# according to indexes of every element in the zipped version.\n",
    "x_coordinate, y_coordinate = list(zip(*coordinates))\n",
    "\n",
    "print(f\"\\nUnzipped x coordinate list: {x_coordinate}\")\n",
    "print(f\"Unzipped y coordinate list: {y_coordinate}\")\n"
   ]
  },
  {
   "cell_type": "markdown",
   "metadata": {},
   "source": [
    "## Exercise 5.3: Distances"
   ]
  },
  {
   "cell_type": "markdown",
   "metadata": {},
   "source": [
    "### Suppose we have two vectors, x and y, stored as tuples with n elements. Implement functions that compute the l1 and l2 distances between x and y. Note that n is not explicitly given."
   ]
  },
  {
   "cell_type": "code",
   "execution_count": 96,
   "metadata": {},
   "outputs": [
    {
     "name": "stdout",
     "output_type": "stream",
     "text": [
      "l1 distance is: 19\n",
      "l2 distance is 13.0\n"
     ]
    }
   ],
   "source": [
    "# To use sqrt() method I imported math library.\n",
    "import math as m\n",
    "\n",
    "x = [3,4,12]\n",
    "y = [6,8,24]\n",
    "# L1 norm is also known as Manhattan distance which is sum of the magnitudes of vectors in the space. And because\n",
    "# vector's magnitudes are represented as elements in lists in python, I just use sum() method to calculate l1 distance.\n",
    "def l1(x,y):\n",
    "    # Here I check which vector's L1 norm is bigger than the other and perform the operation depending on that for\n",
    "    # preventing the negative result.\n",
    "    return sum(x) - sum(y) if sum(x) > sum(y) else sum(y) - sum(x)\n",
    "\n",
    "# L2 norm is also known as Euclidean norm which is calculated as taking square root of each magnitude's square sum.\n",
    "def l2(x,y):\n",
    "    sum_x = 0\n",
    "    sum_y = 0\n",
    "    # Inside for loop I calculate squares of each magnitude and sum them all.\n",
    "    for i in range(len(x)):\n",
    "        sum_x = sum_x + x[i]**2\n",
    "        sum_y = sum_y + y[i]**2\n",
    "    # Here I take the square root of sum of both x and y vectors and to prevent returning negative value, I check \n",
    "    # which vector's L2 norm is bigger than the other and perform operation depending on the situation.\n",
    "    return m.sqrt(sum_y) - m.sqrt(sum_x) if m.sqrt(sum_y) > m.sqrt(sum_x) else m.sqrt(sum_x) - m.sqrt(sum_y)\n",
    "\n",
    "print(f\"l1 distance is: {l1(x,y)}\")\n",
    "print(f\"l2 distance is {l2(x,y)}\")"
   ]
  },
  {
   "cell_type": "markdown",
   "metadata": {},
   "source": [
    "# 6 Dictionaries"
   ]
  },
  {
   "cell_type": "markdown",
   "metadata": {},
   "source": [
    "## Exercise 6.1: Printing a dictionary"
   ]
  },
  {
   "cell_type": "markdown",
   "metadata": {},
   "source": [
    "### Write a function that prints key-value pairs of a dictionary."
   ]
  },
  {
   "cell_type": "code",
   "execution_count": 22,
   "metadata": {},
   "outputs": [
    {
     "name": "stdout",
     "output_type": "stream",
     "text": [
      "(1, 'elma')\n",
      "(2, 'armut')\n",
      "(3, 'portakal')\n"
     ]
    }
   ],
   "source": [
    "def print_dict(dict):\n",
    "    # Built in method of dictionary.items() returns a list of tuples which represent each key,value pair.\n",
    "    for pair in dict.items():\n",
    "        print(f\"{pair}\")\n",
    "\n",
    "dict = {1:\"elma\",2:\"armut\",3:\"portakal\"}\n",
    "print_dict(dict)"
   ]
  },
  {
   "cell_type": "markdown",
   "metadata": {},
   "source": [
    "## Exercise 6.2: Histogram\n"
   ]
  },
  {
   "cell_type": "markdown",
   "metadata": {},
   "source": [
    "### Write a function that takes a list, and returns a dictionary with keys the elements of the list and as value the number of occurances of that element in the list."
   ]
  },
  {
   "cell_type": "code",
   "execution_count": 25,
   "metadata": {},
   "outputs": [
    {
     "name": "stdout",
     "output_type": "stream",
     "text": [
      "{'elma': 2, 'armut': 3, 'kiraz': 2, 'portakal': 1}\n"
     ]
    }
   ],
   "source": [
    "def histogram(l):\n",
    "    dictionary = {}\n",
    "    # Here I use the set() method to get the number of unique elements in the list to give them as keys of dictionary.\n",
    "    keys = list(set(l))\n",
    "\n",
    "    # Below for loop is for creating a dictionary from unique keys list and initializing them to 0 for default value.\n",
    "    for i in range(len(keys)):\n",
    "        dictionary[keys[i]] = 0\n",
    "\n",
    "    # In below loop I search through list \"l\" and increment a key's value every time I encounter it.\n",
    "    for j in range(len(l)):\n",
    "        dictionary[l[j]] = dictionary[l[j]] + 1\n",
    "\n",
    "    return dictionary\n",
    "\n",
    "l = [\"elma\",\"elma\",\"armut\", \"kiraz\", \"portakal\",\"kiraz\",\"armut\",\"armut\"]\n",
    "\n",
    "print(histogram(l))"
   ]
  },
  {
   "cell_type": "markdown",
   "metadata": {},
   "source": [
    "### After you are done, look up ‘python collections counter’ in Google. Could you use a counter instead?\n"
   ]
  },
  {
   "cell_type": "markdown",
   "metadata": {},
   "source": [
    "After looking up \"Python Collections Counter\" I have realized that was so similar to what I did in my code except the order of keys and return format and it took me a while to figure it out. So, this counter() method will make my job a lot easier next time. It returns a dictionary format which it's keys hold each unique element and it's values hold their apperances in the list. To be able use it, we need to import it first from collections library. "
   ]
  },
  {
   "cell_type": "code",
   "execution_count": 11,
   "metadata": {},
   "outputs": [
    {
     "name": "stdout",
     "output_type": "stream",
     "text": [
      "Counter({'armut': 3, 'elma': 2, 'kiraz': 2, 'portakal': 1})\n"
     ]
    }
   ],
   "source": [
    "from collections import Counter\n",
    "\n",
    "l = [\"elma\",\"elma\",\"armut\", \"kiraz\", \"portakal\",\"kiraz\",\"armut\",\"armut\"]\n",
    "# This is the Counter() method which I explained above. It will return dictionary format.\n",
    "dict = Counter(l)\n",
    "print(dict)"
   ]
  },
  {
   "cell_type": "markdown",
   "metadata": {},
   "source": [
    "## Exercise 6.3: Get method"
   ]
  },
  {
   "cell_type": "markdown",
   "metadata": {},
   "source": [
    "### Dictionaries have a get method, which takes a key and a default value. If the key is in the dictionary, it returns the value, otherwise, it returns the default value.\n",
    "### Rewrite your code from the previous problem to make use of this get method."
   ]
  },
  {
   "cell_type": "code",
   "execution_count": 27,
   "metadata": {},
   "outputs": [
    {
     "name": "stdout",
     "output_type": "stream",
     "text": [
      "{'elma': 2, 'armut': 3, 'kiraz': 2, 'portakal': 1}\n"
     ]
    }
   ],
   "source": [
    "def histogram(l):\n",
    "    d = {}\n",
    "    # In below for loop I just use built-in get() method as a difference and with that I didnt have to initialize keys\n",
    "    # and the values before using them in this loop. Because there is a defualt value parameter we can use in get()\n",
    "    # method. I just return 0 for the keys that does not exist in the dictionary.\n",
    "    for j in range(len(l)):\n",
    "        d[l[j]] = d.get(l[j],0) + 1\n",
    "\n",
    "    return d\n",
    "\n",
    "l = [\"elma\",\"elma\",\"armut\", \"kiraz\", \"portakal\",\"kiraz\",\"armut\",\"armut\"]\n",
    "print(histogram(l))"
   ]
  },
  {
   "cell_type": "markdown",
   "metadata": {},
   "source": [
    "## Exercise 6.4: Random text generator"
   ]
  },
  {
   "cell_type": "markdown",
   "metadata": {},
   "source": [
    "### In this question we will start implementing a random text generator. The generated phrases somewhat resemble English, but are usually nonsense. Next week, after we learn about file I/O, we are ready to complete the code.\n",
    "### To generate sentences, we first construct a so-called Markov chain based on actual text data. This is a very basic language model. We can then sample paths from this Markov chain to create new phrases. This is actually easier than it sounds:\n",
    "### A Markov chain consists of states, and transition probabilities between states: i.e. when I am in state A, what is the probability that I’ll go to state B?\n",
    "### We focus on the simple case where the state will be the current word. Consider the example sentence ‘the fire and the wind.’ Then, the states that we move through are\n",
    "### BEGIN → the → fire → and → the → wind. → END\n",
    "### where ‘BEGIN’ and ‘END’ are special states for the beginning and the end of the sentence. To find the transition probabilities, we go over a large body of text and record current word and the next word. In the above example, ‘BEGIN’ is followed by ‘the’, and ‘the’ is followed by ‘fire’ and ‘wind’.\n",
    "### We won’t be computing actual probabilities. Instead, we create a dictionary that, for every word, contains all the words that follow it. To generate a phrase, we start at the ‘BEGIN’ state, and pick randomly one word from the list of words that follows the ‘BEGIN’ state. Then we look up which words follow that word, and again pick one word at random, until we hit the ‘END’ state, which signals that we are done.\n",
    "### Before you get started, download the starter code by using\n",
    "### $ git clone https://github.com/schmit/Markov-chain-startercode.git (if you have git / use Cloud9) or dowload the code directly: https://github.com/schmit/Markov-chain-startercode/archive/master.zip\n",
    "### Then\n",
    "### • Implement the process line function, which takes a line as input, and returns a list with tuples with the current state, and the next state.\n",
    "### • Implement the process textfile function, which loops over text, calls process line to extract the transitions, and adds these to a dictionary. For now, do not worry about reading data from a file, the lines are given as elements of the list f.\n",
    "### • Implement the generate line function, which generates random phrases based on a dictionary with transitions.\n",
    "### See markov.py for a more detailed description of each function.\n",
    "### To run the code, use python markov.py <filename>. Since we are not using any files yet, replace\n",
    "### <filename> with a random word.\n"
   ]
  },
  {
   "cell_type": "code",
   "execution_count": 2,
   "metadata": {},
   "outputs": [
    {
     "name": "stdout",
     "output_type": "stream",
     "text": [
      "the birds still hopping on the street. \n"
     ]
    }
   ],
   "source": [
    "import random\n",
    "\n",
    "def process_line(line):\n",
    "    '''\n",
    "    Process a line of text to extract (state, new_word) pairs.\n",
    "    Note that we remove uppercase letters in this example, though\n",
    "    you don't have to.\n",
    "\n",
    "    Example:\n",
    "    process_line(\"In winter I get up at night\") =\n",
    "    [('BEGIN', 'in'),\n",
    "     ('in', 'winter'),\n",
    "     ('winter', 'i'),\n",
    "     ('i', 'get'),\n",
    "     ('get', 'up'),\n",
    "     ('up', 'at'),\n",
    "     ('at', 'night'),\n",
    "     ('night', 'END')]\n",
    "\n",
    "    We add the BEGIN and END keywords so that we can initialize the\n",
    "    sentence and know when the line ends.\n",
    "    '''\n",
    "    # Here I first make the given line lowercase and then split it to its words to create tuples of list.\n",
    "    line_list = line.lower().split()\n",
    "    result = []\n",
    "\n",
    "     # In below for loop I create tuples of list which represent the relationship between current word and \n",
    "     # next word. Then I append them in the result array to send it back to use for creating dictionary \n",
    "     # in process_textFile() method.\n",
    "    for i in range(len(line_list)):\n",
    "        if i == 0:\n",
    "            result.append(('BEGIN',line_list[i]))\n",
    "            if len(line_list) != 1:\n",
    "                    result.append((line_list[i],line_list[i+1]))\n",
    "        elif i == (len(line_list) - 1):\n",
    "            result.append((line_list[i],'END'))\n",
    "        else:\n",
    "            result.append((line_list[i],line_list[i+1]))\n",
    "    \n",
    "    return result\n",
    "\n",
    "def process_textfile(filename):\n",
    "    '''\n",
    "    Creates a dictionary with transition pairs\n",
    "    based on a file provided\n",
    "\n",
    "    For the first part of the assignment, we use a\n",
    "    placeholder text that you will have to replace\n",
    "    at some point.\n",
    "\n",
    "    Based on the placeholder text, the dictionary\n",
    "    should contain the following key-value pairs:\n",
    "\n",
    "    'blue,': ['END']\n",
    "    'by': ['yellow', 'day.', 'day?']\n",
    "    'still': ['hopping', 'going']\n",
    "    '''\n",
    "    d = {}\n",
    "\n",
    "    # Placeholder until we add File I/O in part two\n",
    "    # Overwrite the following lines with your code:\n",
    "    f = '''In winter I get up at night\n",
    "And dress by yellow candle-light.\n",
    "In summer quite the other way,\n",
    "I have to go to bed by day.\n",
    "\n",
    "I have to go to bed and see\n",
    "The birds still hopping on the tree,\n",
    "Or hear the grown-up people's feet\n",
    "Still going past me in the street.\n",
    "\n",
    "And does it not seem hard to you,\n",
    "When all the sky is clear and blue,\n",
    "And I should like so much to play,\n",
    "To have to go to bed by day?\n",
    "'''.split('\\n')\n",
    "    # In below outer for loop I first take lines one by one and send them to process_line() method to get\n",
    "    # tuples of list.\n",
    "    for line in f:\n",
    "        tuples = process_line(line)\n",
    "        # After getting tuples list, I take tuples one by one and use their values for key,value pair in the\n",
    "        # dictinary.\n",
    "        for tuple in tuples:\n",
    "            # If there is no such key value exist in dictionary, I sent the empty array and append the\n",
    "            # following words in text to it. If the key already exist then I just get the key's value array and\n",
    "            # append the following word to it.\n",
    "            values = d.get(tuple[0],[])\n",
    "            if values:\n",
    "                values.append(tuple[1])\n",
    "            else:\n",
    "                values.append(tuple[1])\n",
    "                d[tuple[0]] = values\n",
    "    return d\n",
    "\n",
    "def generate_line(d):\n",
    "    '''\n",
    "    Generates a random sentence based on the dictionary\n",
    "    with transition pairs\n",
    "\n",
    "    Note that the first state is BEGIN but that we\n",
    "    obviously do not want to return BEGIN\n",
    "\n",
    "    Some sample output based on the placeholder text:\n",
    "    'i have to go to go to go to go to play,'\n",
    "\n",
    "    Hint: use random.choice to select a random element from a list\n",
    "    '''\n",
    "    sentence = ''\n",
    "    # I assign current word as 'BEGIN' as starting point to while loop. \n",
    "    current_word = 'BEGIN'\n",
    "    \n",
    "    # If current word is other than 'END' loop will keep running to create the sentence but if it becomes\n",
    "    # 'END' then while loop will terminate.\n",
    "    while current_word != 'END':\n",
    "        # Here I take the list as a value of dictionary,which holds every possible words\n",
    "        # that can follow the specific word which is also a key value of dictionary.\n",
    "        next_word_list = d[current_word]\n",
    "        # Here I create a random integer to use as index for the next_word_list for selecting word randomly.\n",
    "        index = random.randint(0,len(next_word_list)-1)\n",
    "        # And here I chose the next word by using index.\n",
    "        next_word = next_word_list[index]\n",
    "        # If next word is not END then I add it to the sentence if it is END, I dont because, then the end of\n",
    "        # the sentence will end with 'END' tag.\n",
    "        if next_word != 'END':\n",
    "            sentence = sentence + next_word + ' '\n",
    "        # And of course after using the next word in the sentence it becomes the current word.\n",
    "        current_word = next_word\n",
    "\n",
    "    return sentence\n",
    "\n",
    "\n",
    "d = process_textfile('furkan')\n",
    "print(generate_line(d))"
   ]
  },
  {
   "cell_type": "markdown",
   "metadata": {},
   "source": [
    "## Exercise 6.5: Vector functions"
   ]
  },
  {
   "cell_type": "markdown",
   "metadata": {},
   "source": [
    "### Let’s implement some vector functions. There are two types of vectors, normal or dense vectors, which we can represent using lists. For sparse vectors, where many of the elements are zero, this is inefficient. Instead, we use a dictionary with keys the indices of non-zero values, and then the value corresponding to the key is the value of the vector at that index. Hence, the vector [1, 2, 4] can be stored as a list: [1, 2, 4] or as a dictionary {0:1, 1: 2, 2: 4}.\n",
    "### (a) Write a function that adds two (dense) vectors"
   ]
  },
  {
   "cell_type": "code",
   "execution_count": 2,
   "metadata": {},
   "outputs": [
    {
     "name": "stdout",
     "output_type": "stream",
     "text": [
      "[5, 7, 9]\n"
     ]
    }
   ],
   "source": [
    "def add_dense_vectors(v1,v2):\n",
    "    # I used list comprehension which adds the values of two vectors are corresponding indexes\n",
    "    return [v1[i] + v2[i] for i in range(len(v1))]\n",
    "\n",
    "print(add_dense_vectors([1,2,3],[4,5,6]))"
   ]
  },
  {
   "cell_type": "markdown",
   "metadata": {},
   "source": [
    "### (b) Write a function that multiplies (i.e. inner product) two (dense) vectors"
   ]
  },
  {
   "cell_type": "code",
   "execution_count": 127,
   "metadata": {},
   "outputs": [
    {
     "name": "stdout",
     "output_type": "stream",
     "text": [
      "32\n"
     ]
    }
   ],
   "source": [
    "# The inner product of two vector (of equal length, of course),\n",
    "# is simply given by the sum of the products of the coordinates with same index.\n",
    "def inner_product(v1,v2):\n",
    "    if len(v1) != len(v2):\n",
    "        print(\"Lenght of the vectors should be equal\")\n",
    "        return\n",
    "    else:\n",
    "        products = [v1[i] * v2[i] for i in range(len(v2))]\n",
    "        return sum(products)\n",
    "\n",
    "print(inner_product([8,4],[2,4]))"
   ]
  },
  {
   "cell_type": "markdown",
   "metadata": {},
   "source": [
    "### (c) Write a function that adds two sparse vectors"
   ]
  },
  {
   "cell_type": "code",
   "execution_count": 126,
   "metadata": {},
   "outputs": [
    {
     "name": "stdout",
     "output_type": "stream",
     "text": [
      "{0: 3, 1: 2, 2: 14, 5: 8, 8: 3}\n"
     ]
    }
   ],
   "source": [
    "def add_sparse_vectors(d1,d2):\n",
    "    result = {}\n",
    "    # Here I define the limit as the biggest key number of both dictionaries.\n",
    "    d1_len = list(d1.keys())[-1]\n",
    "    d2_len = list(d2.keys())[-1]\n",
    "    limit = d1_len if d1_len > d2_len else d2_len\n",
    "    \n",
    "    # Because range() method excludes the right end of the range, I added 1.\n",
    "    for i in range(limit+1):\n",
    "        # Here I used get() method of dictionary to get the values of corresponding keys. For the default value I assign 0.\n",
    "        sum = d1.get(i,0) + d2.get(i,0)\n",
    "        # If there is no such keys in both dictionaries, then sum will be 0. So I pass on the keys which their value 0.\n",
    "        if sum != 0:\n",
    "            result[i] = sum\n",
    "    return result\n",
    "\n",
    "print(add_sparse_vectors({0:3,2:5,5:8},{1:2,2:9,8:3}))"
   ]
  },
  {
   "cell_type": "markdown",
   "metadata": {},
   "source": [
    "### (d) Write a function that multiplies two sparse vectors"
   ]
  },
  {
   "cell_type": "code",
   "execution_count": 125,
   "metadata": {},
   "outputs": [
    {
     "name": "stdout",
     "output_type": "stream",
     "text": [
      "45\n"
     ]
    }
   ],
   "source": [
    "def multiply_sparse_vectors(d1,d2):\n",
    "    # Here I define the limit as the biggest key number of both dictionaries as sparse vectors.\n",
    "    d1_len = list(d1.keys())[-1]\n",
    "    d2_len = list(d2.keys())[-1]\n",
    "    limit = d1_len if d1_len > d2_len else d2_len\n",
    "\n",
    "    # Below list comprehension checks whether the values of key's are the same for both dictionaries. If it is then\n",
    "    # multiply them and assign the result to corresponding index.\n",
    "    result = [(d1.get(i,0) * d2.get(i,0)) for i in range(limit+1)]\n",
    "    # Before returning the result, I sum all the values of result array.\n",
    "    return sum(result)\n",
    "print(multiply_sparse_vectors({0:3,2:5,5:8},{1:2,2:9,8:3}))"
   ]
  },
  {
   "cell_type": "markdown",
   "metadata": {},
   "source": [
    "### (e) Write a function that adds a sparse vector and a dense vector"
   ]
  },
  {
   "cell_type": "code",
   "execution_count": 124,
   "metadata": {},
   "outputs": [
    {
     "name": "stdout",
     "output_type": "stream",
     "text": [
      "{0: 4, 1: 2, 2: 8, 5: 8}\n"
     ]
    }
   ],
   "source": [
    "def add_dense_and_sparse_vectors(v1,d2):\n",
    "    result = {}\n",
    "    # Here I define the limit as the biggest number for both dense vector and sparse vector.\n",
    "    v1_len = len(v1)\n",
    "    d2_len = list(d2.keys())[-1]\n",
    "    limit = v1_len if v1_len > d2_len else d2_len\n",
    "\n",
    "    for i in range(limit+1):\n",
    "        # If the index value i is greater than the lenght of v1 list, don't take the dense vector into account because\n",
    "        # it'll give index out of range error and if there is no such index at both vectors then dont initialize it to\n",
    "        # the result dictionary. \n",
    "        if i >= v1_len:\n",
    "            if d2.get(i,0) != 0:\n",
    "                result[i] = d2.get(i,0) \n",
    "        # However, if it is in the range of list then sum both the values of sparse and dense\n",
    "        # vector's values at the corresponding indexes.\n",
    "        else:\n",
    "            result[i] = v1[i] + d2.get(i,0)\n",
    "\n",
    "    return result\n",
    "\n",
    "print(add_dense_and_sparse_vectors([1,2,3],{0:3,2:5,5:8}))"
   ]
  },
  {
   "cell_type": "markdown",
   "metadata": {},
   "source": [
    "### (f) Write a function that multiplies a sparse vector and a dense vector\n"
   ]
  },
  {
   "cell_type": "code",
   "execution_count": 123,
   "metadata": {},
   "outputs": [
    {
     "name": "stdout",
     "output_type": "stream",
     "text": [
      "18\n"
     ]
    }
   ],
   "source": [
    "# When I searched through internet I couldn't find any information regarding to sparce vector and dense vector.\n",
    "# So I assume that when the sparce vector lenght is bigger than dense vector, we ignore the rest of the indexes \n",
    "# of sparce vector and multiply the same lenght with dense vector.\n",
    "def multiply_sparse_and_dense_vectors(d1,v2):\n",
    "    # As I explained above here I multiply the values of the same indexes of two vectors and ignore the rest.\n",
    "    result = [(d1.get(i,0)*v2[i]) for i in range(len(v2))]\n",
    "    return sum(result)\n",
    "\n",
    "print(multiply_sparse_and_dense_vectors({0:3,2:5,5:8},[1,2,3,4]))"
   ]
  },
  {
   "cell_type": "markdown",
   "metadata": {},
   "source": [
    "## Exercise 6.6: Reverse look-up"
   ]
  },
  {
   "cell_type": "markdown",
   "metadata": {},
   "source": [
    "### Dictionaries are made to look up values by keys. Suppose however, we want to find the key that is associated with some value. Write a function that takes a dictionary and a value, and returns the key associated with this value.\n",
    "### What challenges do you face? How would you deal with those challenges?"
   ]
  },
  {
   "cell_type": "code",
   "execution_count": 70,
   "metadata": {},
   "outputs": [
    {
     "name": "stdout",
     "output_type": "stream",
     "text": [
      "The key is: 2\n"
     ]
    }
   ],
   "source": [
    "# One of the challegences even thought small ones I face with is getting keys and values of dictionary in list format\n",
    "# in the same order for both lists. So, that when I find the value I am looking for in the value list, I can use the\n",
    "# index of that value in the keys list to get corresponding key for result. Finally, I've dealt with those problems by\n",
    "# using list() casting of built-in method key() and values() of dictionary.\n",
    "def find_key(d,value):\n",
    "    # Getting keys and values of dictionary in list format.\n",
    "    keys = list(d.keys())\n",
    "    values = list(d.values())\n",
    "\n",
    "    # If the value that is given to function matches with the value in the iterator then I use the same index in keys\n",
    "    # list.\n",
    "    for i in range(len(values)):\n",
    "        if values[i] == value:\n",
    "            return f\"The key is: {keys[i]}\"\n",
    "    else: \n",
    "        return \"There is no such key,value pair in the dictionary!\"\n",
    "\n",
    "print(find_key({0:3,2:5,4:7,5:8},5))"
   ]
  }
 ],
 "metadata": {
  "kernelspec": {
   "display_name": "Python 3",
   "language": "python",
   "name": "python3"
  },
  "language_info": {
   "codemirror_mode": {
    "name": "ipython",
    "version": 3
   },
   "file_extension": ".py",
   "mimetype": "text/x-python",
   "name": "python",
   "nbconvert_exporter": "python",
   "pygments_lexer": "ipython3",
   "version": "3.9.6"
  }
 },
 "nbformat": 4,
 "nbformat_minor": 2
}
