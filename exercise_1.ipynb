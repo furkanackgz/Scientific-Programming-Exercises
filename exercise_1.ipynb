{
 "cells": [
  {
   "cell_type": "markdown",
   "metadata": {},
   "source": [
    "# Nadi Furkan Açıkgöz, 20170808059 Exercise Answers"
   ]
  },
  {
   "cell_type": "markdown",
   "metadata": {},
   "source": [
    "# 1 Basics"
   ]
  },
  {
   "cell_type": "markdown",
   "metadata": {},
   "source": [
    "## Exercise 1.1 The interpreter"
   ]
  },
  {
   "cell_type": "markdown",
   "metadata": {},
   "source": [
    "a) it displays an output of 4 by simply adding those 3 and 1.\n",
    "\n",
    "b) it displays an output of 9 by simply multiplying 3 and 3.\n",
    "\n",
    "c) it displays an output of 8 by simply takes 2 to the 3rd power.\n",
    "\n",
    "d) it displays whatever between the quotation marks which in this case is Hello, world! .\n",
    "\n",
    "They worked because we directly use the python interpreter. Python interpreter directly converts it to machine language."
   ]
  },
  {
   "cell_type": "markdown",
   "metadata": {},
   "source": [
    "## Exercise 1.2: Scripts"
   ]
  },
  {
   "cell_type": "markdown",
   "metadata": {},
   "source": [
    "However, when we write the above codes into the script and try to run it with Integrated Development Environment(IDE) we need to use print() function to display on the screen."
   ]
  },
  {
   "cell_type": "markdown",
   "metadata": {},
   "source": [
    "## Exercise 1.3: More interpreter"
   ]
  },
  {
   "cell_type": "markdown",
   "metadata": {},
   "source": [
    "a) it simply concatenate'py' and 'thon' and display 'python'.\n",
    "\n",
    "b) it writes 'py' three times next to each other 'pypypy' and then concatenate it with 'thon' and display 'pypypython'\n",
    "\n",
    "c) Even though it can concatenate two strings using + sign, it cannot subscribe two strings from each other this operation is not supported. Both operands should be numerical to use - operation. We get TypeError: unsupported operand type(s) for -: 'str' and 'str'.\n",
    "\n",
    "d) This operation is also not supported by the interpreter because concatenation is only supported between strings and in this situation there is one string and one int so we get TypeError: can only concatenate str (not \"int\") to str.\n",
    "\n",
    "e) This situation is also writing '3' three times next to each other and we get an output of '333' to display.\n",
    "\n",
    "f) In this situation if we put a inside quotation marks then the interpreter would display 'a' but without a we get an NameError: name 'a' is not defined.\n",
    "\n",
    "g) In this situation we didn't get any error but interpreter didn't display it because we should have written a as well to display it after initializing it.\n",
    "\n",
    "h) And in here it displays 3 because in the previous step we initialize a variable with 3."
   ]
  },
  {
   "cell_type": "markdown",
   "metadata": {},
   "source": [
    "## Exercise 1.4: Booleans"
   ]
  },
  {
   "cell_type": "markdown",
   "metadata": {},
   "source": [
    "a) Interpreter returns true because both sides of the operation are the same numbers.\n",
    "\n",
    "b) In this situation it returns true as well because 1 means also True in lower levels of machine language. Both sides of the operation is also equals so this also return true.\n",
    "\n",
    "c) It returns false because while 1 is meaning true, 0 is false. So both sides of equation is different and we get false in this situation.\n",
    "\n",
    "d) And here we get true because of the reason I explained in previous question.\n",
    "\n",
    "e) It returns true because before interpreter looks the both sides of equation it performs the operation defined there and then do equality checking.\n",
    "\n",
    "f) The result for this statement is 0 because 3 is not equal to 1 so this result is false and also 0 and 0 times 3 is 0 but interpreter does not display it because this is not an actual statement to display.\n",
    "\n",
    "g) And in this one 3 equals 3 so we a true result which means 1 and after replacing it with 1 and doing the calculations on the left side of the very right of equality cheking operation, we get a false because the left side is 7 and the right one is 1.\n",
    "\n",
    "h) For this statement we get a false result because the left side of the operation is 3 to the power of 5 which is 243 is not bigger than and equal to 4 to the power of 4 which is 256."
   ]
  },
  {
   "cell_type": "markdown",
   "metadata": {},
   "source": [
    "## Exercise 1.5: Integers"
   ]
  },
  {
   "cell_type": "markdown",
   "metadata": {},
   "source": [
    "a) This is the division opearation. When we divide 5 to 3 the result will be floating number and the interpreter will display 1.66666 even though both of the operands are integer.\n",
    "\n",
    "b) This is modulus operation and it calculates the remainder of division of 5 to 3 which is 2.\n",
    "\n",
    "c) There is no difference between this operation and division of integers of 5 and 3. We also get the same result with question a which is floating point number 1.66666.\n",
    "\n",
    "d) For this one also there is no difference so we again get an answer of 1.6666 the same as previous one.\n",
    "\n",
    "e) The result of this operation is 2.2 because it is a modulus operation and the remainder of 5.2 when divided to 3 is 2.2.\n",
    "\n",
    "f) This an exponent operator and the result is int number because both base and the power is integer. So interpreter doesn't encounter an issue to interpret."
   ]
  },
  {
   "cell_type": "markdown",
   "metadata": {},
   "source": [
    "## Exercise 1.6: Floats"
   ]
  },
  {
   "cell_type": "markdown",
   "metadata": {},
   "source": [
    "a) In this case because base is an float number the result will also be a float number instead of integer compared to above question. When it is float, the size of result would be too large and we get an OverflowError: (34, 'Result too large').\n",
    "\n",
    "b) The result is 1.0 which is float because all the numbers are float and their sizes are equal.\n",
    "\n",
    "c) The result is 0.0 because when we add 1.0 with 1.0e20 (which corresponds to 10^20), the result will be 1.0 because 1.0e20 is a very huge number so adding 1.0 to it will not put a very big affect on it. So, after that adding we get 1.0e20 and subtracting it with the 1.0e20 will give the floating point of 0.0 ."
   ]
  },
  {
   "cell_type": "markdown",
   "metadata": {},
   "source": [
    "## Exercise 1.7: Variables"
   ]
  },
  {
   "cell_type": "code",
   "execution_count": 18,
   "metadata": {},
   "outputs": [
    {
     "name": "stdout",
     "output_type": "stream",
     "text": [
      "Hello, John Doe!\n"
     ]
    }
   ],
   "source": [
    "name = \"John Doe\"\n",
    "# I used both comma and + sign because when we use comma it automatically\n",
    "# adds a space.\n",
    "print(\"Hello,\", name + '!')"
   ]
  },
  {
   "cell_type": "markdown",
   "metadata": {},
   "source": [
    "## Exercise 1.8: Type casting"
   ]
  },
  {
   "cell_type": "markdown",
   "metadata": {},
   "source": [
    "a) Float casting of int 123 will result as 123.0 because we convert it from int to float.\n",
    "\n",
    "b) Float casting of string '123' will result as 123.0 again with no error because converting it from string of int to float is okay.\n",
    "\n",
    "c) After this casting we also get 123.23 because it's string of float so converting it from string to float will be okay as previous one.\n",
    "\n",
    "d) When we try to convert from flating point number to int we lose the floating points after converting so in this result we get integer 123.\n",
    "\n",
    "e) However, in this case because it is a string of int and the type we want to convert it is float, there will occur an error because int inside quotation marks is not in the base of 10. And the error we get is ValueError: invalid literal for int() with base 10: '123.23'.\n",
    "\n",
    "f) And the solution to the previous problem is this one. Before casting string of float to integer we should first convert it to float and then converting to int will give the desired output for losing the floating points of the number.\n",
    "\n",
    "g) We can convert an int to a string without a problem the result will be '12'.\n",
    "\n",
    "h) We can also convert a float number to a string without a problem the result will be '12.2'\n",
    "\n",
    "i) The result will be True because any non-empty strings are considered as True but an empty string is False.\n",
    "\n",
    "j) The result will be False because any number that is not 0 whether it is int or float will be True but 0 will be False.\n",
    "\n",
    "k) The result will be True because of the reason I explained in previous answer that any number rather than 0 will be true."
   ]
  },
  {
   "cell_type": "markdown",
   "metadata": {},
   "source": [
    "# 2 Control flow"
   ]
  },
  {
   "cell_type": "markdown",
   "metadata": {},
   "source": [
    "## Exercise 2.1: Range"
   ]
  },
  {
   "cell_type": "markdown",
   "metadata": {},
   "source": [
    "range(5) returns a list of elements which starts with 0 and stops at specified number which is not included.\n",
    "And for i in range(5) means we want to repeat block of code for a specific number of times starting from one number until reaching the other. In this case starting from 0 to 4 not including 5.\n",
    "\n",
    "When I typed type(range(5)), it returns range object which holds start, stop and step values and it produces numbers one by one as the loop moves to the next iteration."
   ]
  },
  {
   "cell_type": "markdown",
   "metadata": {},
   "source": [
    "## Exercise 2.2: For loops"
   ]
  },
  {
   "cell_type": "markdown",
   "metadata": {},
   "source": [
    "### (a) Print the numbers 0 to 100"
   ]
  },
  {
   "cell_type": "code",
   "execution_count": 80,
   "metadata": {},
   "outputs": [
    {
     "name": "stdout",
     "output_type": "stream",
     "text": [
      "0 1 2 3 4 5 6 7 8 9 10 11 12 13 14 15 16 17 18 19 20 21 22 23 24 25 26 27 28 29 30 31 32 33 34 35 36 37 38 39 40 41 42 43 44 45 46 47 48 49 50 51 52 53 54 55 56 57 58 59 60 61 62 63 64 65 66 67 68 69 70 71 72 73 74 75 76 77 78 79 80 81 82 83 84 85 86 87 88 89 90 91 92 93 94 95 96 97 98 99 "
     ]
    }
   ],
   "source": [
    "for i in range(100):\n",
    "    # Here the end argument is \\n by default to get to next line\n",
    "    # but I didn't want to get to next line so I used space instead.\n",
    "    print(i, end = \" \")"
   ]
  },
  {
   "cell_type": "markdown",
   "metadata": {},
   "source": [
    "### (b) Print the numbers 0 to 100 that are divisible by 7"
   ]
  },
  {
   "cell_type": "code",
   "execution_count": 81,
   "metadata": {},
   "outputs": [
    {
     "name": "stdout",
     "output_type": "stream",
     "text": [
      "0 7 14 21 28 35 42 49 56 63 70 77 84 91 98 "
     ]
    }
   ],
   "source": [
    "# if iteration value is divisible by 7 then print it.\n",
    "for i in range(100):\n",
    "    if i % 7 == 0:\n",
    "        print(i, end = \" \")"
   ]
  },
  {
   "cell_type": "markdown",
   "metadata": {},
   "source": [
    "### (c) Print the numbers 1 to 100 that are divisible by 5 but not by 3"
   ]
  },
  {
   "cell_type": "code",
   "execution_count": 82,
   "metadata": {},
   "outputs": [
    {
     "name": "stdout",
     "output_type": "stream",
     "text": [
      "5 10 20 25 35 40 50 55 65 70 80 85 95 "
     ]
    }
   ],
   "source": [
    "# If the result of an iteration value divided by 5 is 0 but\n",
    "# when it is divided 3 not 0 then print it.\n",
    "for i in range(100):\n",
    "    if (i % 5 ==  0) & (i % 3 != 0):\n",
    "        print(i, end = \" \")"
   ]
  },
  {
   "cell_type": "markdown",
   "metadata": {},
   "source": [
    "### (d) Print for each of the numbers x = 2, . . . 20, all numbers that divide x, excluding 1 and x. Hence, for 18, it should print 2 3 6 9."
   ]
  },
  {
   "cell_type": "code",
   "execution_count": 22,
   "metadata": {},
   "outputs": [
    {
     "name": "stdout",
     "output_type": "stream",
     "text": [
      "2: \n",
      "3: \n",
      "4: 2,\n",
      "5: \n",
      "6: 2,3,\n",
      "7: \n",
      "8: 2,4,\n",
      "9: 3,\n",
      "10: 2,5,\n",
      "11: \n",
      "12: 2,3,4,6,\n",
      "13: \n",
      "14: 2,7,\n",
      "15: 3,5,\n",
      "16: 2,4,8,\n",
      "17: \n",
      "18: 2,3,6,9,\n",
      "19: \n",
      "20: 2,4,5,10,\n"
     ]
    }
   ],
   "source": [
    "# Here I wanted to write all the values from 2 to 20 as row order and in each row\n",
    "# there are numbers that divide the number in the row. If it is empty then there is no number except\n",
    "# its own value.\n",
    "for i in range(2,21):\n",
    "    print(f'{i}: ', end='')\n",
    "    for j in range(2,21):\n",
    "        # In here if statement checks whether there is a number which divides it but not the same value\n",
    "        # with itself.\n",
    "        if (i % j == 0) & (i != j):\n",
    "            print(j, end =',')\n",
    "    print()"
   ]
  },
  {
   "cell_type": "markdown",
   "metadata": {},
   "source": [
    "## Exercise 2.3: Simple while loops"
   ]
  },
  {
   "cell_type": "markdown",
   "metadata": {},
   "source": [
    "### (a) Print the numbers 0 to 100\n"
   ]
  },
  {
   "cell_type": "code",
   "execution_count": 23,
   "metadata": {},
   "outputs": [
    {
     "name": "stdout",
     "output_type": "stream",
     "text": [
      "0 1 2 3 4 5 6 7 8 9 10 11 12 13 14 15 16 17 18 19 20 21 22 23 24 25 26 27 28 29 30 31 32 33 34 35 36 37 38 39 40 41 42 43 44 45 46 47 48 49 50 51 52 53 54 55 56 57 58 59 60 61 62 63 64 65 66 67 68 69 70 71 72 73 74 75 76 77 78 79 80 81 82 83 84 85 86 87 88 89 90 91 92 93 94 95 96 97 98 99 "
     ]
    }
   ],
   "source": [
    "# When using while loop we have to define iteration value and increment it manually ourselves.\n",
    "i = 0\n",
    "while i < 100:\n",
    "    print(i, end=' ')    \n",
    "    i = i + 1"
   ]
  },
  {
   "cell_type": "markdown",
   "metadata": {},
   "source": [
    "### (b) Print the numbers 0 to 100 that are divisible by 7"
   ]
  },
  {
   "cell_type": "code",
   "execution_count": 24,
   "metadata": {},
   "outputs": [
    {
     "name": "stdout",
     "output_type": "stream",
     "text": [
      "0 7 14 21 28 35 42 49 56 63 70 77 84 91 98 "
     ]
    }
   ],
   "source": [
    "# Here I use the same idea of for loop in while.\n",
    "i = 0\n",
    "while i < 100:\n",
    "    if i % 7 == 0:\n",
    "        print(i , end=' ')\n",
    "    i = i + 1"
   ]
  },
  {
   "cell_type": "markdown",
   "metadata": {},
   "source": [
    "## Exercise 2.4: Hangman update 1"
   ]
  },
  {
   "cell_type": "markdown",
   "metadata": {},
   "source": [
    "When I tried to run the different files in the folder, I got an error with importing them. I could not use functions of different files!"
   ]
  },
  {
   "cell_type": "markdown",
   "metadata": {},
   "source": [
    "## Exercise 2.5: While loops"
   ]
  },
  {
   "cell_type": "markdown",
   "metadata": {},
   "source": [
    "### Use a while loop to find the first 20 numbers that are divisible by 5, 7 and 11, and print them Hint: store the number found so far in a variable."
   ]
  },
  {
   "cell_type": "code",
   "execution_count": 25,
   "metadata": {},
   "outputs": [
    {
     "name": "stdout",
     "output_type": "stream",
     "text": [
      "385 770 1155 1540 1925 2310 2695 3080 3465 3850 4235 4620 5005 5390 5775 6160 6545 6930 7315 7700 "
     ]
    }
   ],
   "source": [
    "number_found = 0\n",
    "x = 11\n",
    "\n",
    "# If the number size of numbers are not reached to 20 then it keeps going until it reachs and mean while it\n",
    "# it check whether the spesific number is divisible by 5, 7 and 11 together. And every found number is printed\n",
    "# to the screen.\n",
    "while number_found < 20:\n",
    "    if (x % 5 == 0) & (x % 7 == 0) & (x % 11 == 0):\n",
    "        print(x, end = ' ')\n",
    "        number_found = number_found + 1\n",
    "    x = x + 1"
   ]
  },
  {
   "cell_type": "markdown",
   "metadata": {},
   "source": [
    "## Exercise 2.6: More while loops"
   ]
  },
  {
   "cell_type": "markdown",
   "metadata": {},
   "source": [
    "### The smallest number that is divisible by 2, 3 and 4 is 12. Find the smallest number that is divisible by all integers between 1 and 10."
   ]
  },
  {
   "cell_type": "code",
   "execution_count": 83,
   "metadata": {},
   "outputs": [
    {
     "name": "stdout",
     "output_type": "stream",
     "text": [
      "The number is 2520!\n"
     ]
    }
   ],
   "source": [
    "num = 1\n",
    "# Initially I define x as True but after finding the number which is divisible by all the numbers from 1 to 10\n",
    "# it will assigned as False and finallize the loop.\n",
    "x = True\n",
    "i = 0\n",
    "# Here I define an array of numbers starts from 1 to 10.\n",
    "dividends = [j+1 for j in range(10)]\n",
    "\n",
    "while x:\n",
    "    if num % dividends[i] == 0 :\n",
    "        # When i is equal to 9 means every number starting from 1 to 10 can divide the number so you can define \n",
    "        # x as False to finilize.\n",
    "        if i != 9:\n",
    "            i = i +1\n",
    "        else:\n",
    "            x = False\n",
    "    # If even 1 number cannot divide it then pass to the next number.\n",
    "    else:\n",
    "        num = num + 1\n",
    "        i = 0\n",
    "\n",
    "print(f'The number is {num}!')"
   ]
  },
  {
   "cell_type": "markdown",
   "metadata": {},
   "source": [
    "## Exercise 2.7: Collatz sequence"
   ]
  },
  {
   "cell_type": "markdown",
   "metadata": {},
   "source": [
    "A Collatz sequence is formed as follows: We start with some number x_0, and we find the next number in the sequence by\n",
    "                   {x_(i)/2, if x_(i) is even \n",
    "        x_(i+1) = {\n",
    "                   {3x_(i)+1, ifx_(i) isodd\n",
    "If xi = 1, we stop iterating and have found the full sequence.\n",
    "For example, if we start with x_0 = 5, we obtain the sequence:\n",
    "5 16 8 4 2 1\n",
    "It is conjectured, though not proven, that every chain eventually ends at 1.\n",
    "Print the Collatz sequence starting at x0 = 103."
   ]
  },
  {
   "cell_type": "code",
   "execution_count": 27,
   "metadata": {},
   "outputs": [
    {
     "name": "stdout",
     "output_type": "stream",
     "text": [
      "103 310 155 466 233 700 350 175 526 263 790 395 1186 593 1780 890 445 1336 668 334 167 502 251 754 377 1132 566 283 850 425 1276 638 319 958 479 1438 719 2158 1079 3238 1619 4858 2429 7288 3644 1822 911 2734 1367 4102 2051 6154 3077 9232 4616 2308 1154 577 1732 866 433 1300 650 325 976 488 244 122 61 184 92 46 23 70 35 106 53 160 80 40 20 10 5 16 8 4 2 1\n"
     ]
    }
   ],
   "source": [
    "x = 103\n",
    "# Loop iterates until 1 is reached because every Collatz sequence ends at 1.\n",
    "while x > 1:\n",
    "    print(x, end = \" \")\n",
    "    # The first condition \n",
    "    if x % 2 == 0:\n",
    "        x = int(x / 2)\n",
    "    # Second condition\n",
    "    else:\n",
    "        x = 3 * x +1\n",
    "print(x)"
   ]
  },
  {
   "cell_type": "markdown",
   "metadata": {},
   "source": [
    "# 3 Functions"
   ]
  },
  {
   "cell_type": "markdown",
   "metadata": {},
   "source": [
    "## Exercise 3.1: Hello"
   ]
  },
  {
   "cell_type": "markdown",
   "metadata": {},
   "source": [
    "### (a) Write a function hello_world that prints ’Hello, world!’"
   ]
  },
  {
   "cell_type": "code",
   "execution_count": 28,
   "metadata": {},
   "outputs": [
    {
     "name": "stdout",
     "output_type": "stream",
     "text": [
      "Hello, world!\n"
     ]
    }
   ],
   "source": [
    "def hello_world():\n",
    "    print('Hello, world!')\n",
    "\n",
    "hello_world()"
   ]
  },
  {
   "cell_type": "markdown",
   "metadata": {},
   "source": [
    "### (b) Write a function hello_name(name) that prints ’Hello, name!’ where name is a string."
   ]
  },
  {
   "cell_type": "code",
   "execution_count": 29,
   "metadata": {},
   "outputs": [
    {
     "name": "stdout",
     "output_type": "stream",
     "text": [
      "Hello,Furkan!\n"
     ]
    }
   ],
   "source": [
    "def hello_name(name):\n",
    "    print('Hello,' + name + '!')\n",
    "\n",
    "hello_name('Furkan')"
   ]
  },
  {
   "cell_type": "markdown",
   "metadata": {},
   "source": [
    "### (c) Explain the difference between the print and return keywords. What would change if instead of print you would use return?"
   ]
  },
  {
   "cell_type": "markdown",
   "metadata": {},
   "source": [
    "Print keyword is used for showing the user what is going on in the computer in the string format. Return keyword is used for outputing the value of a function to where it is called. If I used return instead of print keyword then I would return the \" 'Hello,' + name + '!' \" string to a variable perhaps and then give that variable to the print function as an argument or directly to the print function as an argument."
   ]
  },
  {
   "cell_type": "markdown",
   "metadata": {},
   "source": [
    "## Exercise 3.2: Polynomial"
   ]
  },
  {
   "cell_type": "markdown",
   "metadata": {},
   "source": [
    "### Write a function that evaluates the polynomial 3x^2 − x + 2.\n"
   ]
  },
  {
   "cell_type": "code",
   "execution_count": 30,
   "metadata": {},
   "outputs": [
    {
     "data": {
      "text/plain": [
       "72"
      ]
     },
     "execution_count": 30,
     "metadata": {},
     "output_type": "execute_result"
    }
   ],
   "source": [
    "def eval(x):\n",
    "    return 3 * (x**2) - x + 2\n",
    "\n",
    "eval(5)"
   ]
  },
  {
   "cell_type": "markdown",
   "metadata": {},
   "source": [
    "## Exercise 3.3: Maximum"
   ]
  },
  {
   "cell_type": "markdown",
   "metadata": {},
   "source": [
    "### Write a function my_max(x,y) that returns the maximum of x and y. Do not use the max function, but use if instead in following two ways:\n",
    "\n",
    "### (a) Use both if and else."
   ]
  },
  {
   "cell_type": "code",
   "execution_count": 31,
   "metadata": {},
   "outputs": [
    {
     "data": {
      "text/plain": [
       "11"
      ]
     },
     "execution_count": 31,
     "metadata": {},
     "output_type": "execute_result"
    }
   ],
   "source": [
    "def my_max(x,y):\n",
    "    if x > y:\n",
    "        return x\n",
    "    else:\n",
    "        return y\n",
    "\n",
    "my_max(11,8)"
   ]
  },
  {
   "cell_type": "markdown",
   "metadata": {},
   "source": [
    "### (b) Use if but not else (nor elif)."
   ]
  },
  {
   "cell_type": "code",
   "execution_count": 32,
   "metadata": {},
   "outputs": [
    {
     "data": {
      "text/plain": [
       "29"
      ]
     },
     "execution_count": 32,
     "metadata": {},
     "output_type": "execute_result"
    }
   ],
   "source": [
    "def my_max(x,y):\n",
    "    if x > y:\n",
    "        return x\n",
    "    if y > x:\n",
    "        return y\n",
    "\n",
    "my_max(23,29)"
   ]
  },
  {
   "cell_type": "markdown",
   "metadata": {},
   "source": [
    "## Exercise 3.4: Primes"
   ]
  },
  {
   "cell_type": "markdown",
   "metadata": {},
   "source": [
    "### (a) Write a function is_prime(n) that returns True only if n is prime."
   ]
  },
  {
   "cell_type": "code",
   "execution_count": 33,
   "metadata": {},
   "outputs": [
    {
     "data": {
      "text/plain": [
       "True"
      ]
     },
     "execution_count": 33,
     "metadata": {},
     "output_type": "execute_result"
    }
   ],
   "source": [
    "def is_prime(n):\n",
    "    # if n is less then 2 then do nothing because prime numbers start with 2.\n",
    "    if n < 2:\n",
    "        print('Prime Numbers start with 2!')\n",
    "    # Because 2 is special condition for prime numbers I seperated it.\n",
    "    elif n == 2:\n",
    "        return True\n",
    "    # If it is bigger than 2 then check it with numbers starting from 2 to until its own value\n",
    "    # to see whether there is a number that divides it. If there is return False if not return True.\n",
    "    else:\n",
    "        for i in range(2,n):\n",
    "            if n % i == 0:\n",
    "                return False\n",
    "        return True\n",
    "\n",
    "is_prime(3)\n",
    "                "
   ]
  },
  {
   "cell_type": "markdown",
   "metadata": {},
   "source": [
    "### (b) Note that apart from 2 and 3, all primes are of the form 6k ± 1 (though not all numbers of the form 6k ± 1 are prime of course). Using this, we can improve the computation time by a factor 3. Update your function to use this."
   ]
  },
  {
   "cell_type": "code",
   "execution_count": 34,
   "metadata": {},
   "outputs": [
    {
     "data": {
      "text/plain": [
       "True"
      ]
     },
     "execution_count": 34,
     "metadata": {},
     "output_type": "execute_result"
    }
   ],
   "source": [
    "def is_prime(n):\n",
    "    if n < 2:\n",
    "        print('Prime Numbers start with 2')\n",
    "    elif (n == 2) | (n == 3):\n",
    "        return True\n",
    "    else:\n",
    "        # In here I used this note in the question I both check for the iteration value whether its 1 value \n",
    "        # higher and lesser is divided by 6. If it is, then return True without wasting time with loop. If not,\n",
    "        # return False.\n",
    "        if ((n-1) % 6 == 0) | ((n+1) % 6 == 0):\n",
    "            return True\n",
    "        else:\n",
    "            return False\n",
    "\n",
    "is_prime(11)"
   ]
  },
  {
   "cell_type": "markdown",
   "metadata": {},
   "source": [
    "### (c) Write a function that returns all primes up to n."
   ]
  },
  {
   "cell_type": "code",
   "execution_count": 84,
   "metadata": {},
   "outputs": [
    {
     "name": "stdout",
     "output_type": "stream",
     "text": [
      "[2, 3, 5, 7, 11, 13, 17, 19, 23, 25, 29]\n"
     ]
    }
   ],
   "source": [
    "# Slow version O(n^2) of solution which check every number starting from 3 to its own value (including) whether \n",
    "# it can be divided by the numbers starting from 2 to iteration value (excluding) with nested loops. If even one\n",
    "# number can divide it, then return break and pass to next number. If break is not encountered along the way, then\n",
    "# enter the else and append it to primes list.\n",
    "'''\n",
    "def all_primes(n):\n",
    "    primes = []\n",
    "    if n < 2:\n",
    "        print('Prime Numbers start with 2')\n",
    "    elif n == 2:\n",
    "        primes.append(n)\n",
    "    else:\n",
    "        for i in range(3, n+1):\n",
    "            for j in range(2,i):\n",
    "                if i % j == 0:\n",
    "                    break\n",
    "            else: \n",
    "                primes.append(i)\n",
    "\n",
    "    return primes\n",
    "\n",
    "print(all_primes(29))\n",
    "\n",
    "'''\n",
    "\n",
    "# Fast version O(n)\n",
    "def all_primes(n):\n",
    "    primes = []\n",
    "    if n < 2:\n",
    "        print('Prime Numbers start with 2')\n",
    "    elif n == 2:\n",
    "        primes.append(2)\n",
    "    # Here I also added 3 because the note given in the question tells that it is only applicable to the prime \n",
    "    # numbers except 2 and 3.\n",
    "    elif n == 3:\n",
    "        primes.append(2)\n",
    "        primes.append(3)\n",
    "    else:\n",
    "    # I have to add 2 and 3 as well because loops start from 4 and if it is more than 2, then I have to add them.\n",
    "        primes.append(2)\n",
    "        primes.append(3)\n",
    "        for i in range(4, n+1):\n",
    "            # Using the special condition to speed up the operation.\n",
    "            if ((i-1) % 6 == 0) | ((i+1) % 6 == 0):\n",
    "                primes.append(i)\n",
    "    \n",
    "    return primes\n",
    "\n",
    "print(all_primes(29))\n"
   ]
  },
  {
   "cell_type": "markdown",
   "metadata": {},
   "source": [
    "### (d) Write a function that returns the first n primes."
   ]
  },
  {
   "cell_type": "code",
   "execution_count": 36,
   "metadata": {},
   "outputs": [
    {
     "name": "stdout",
     "output_type": "stream",
     "text": [
      "[2, 3, 5, 7, 11, 13, 17, 19, 23, 25]\n"
     ]
    }
   ],
   "source": [
    "def first_n_primes(n):\n",
    "    primes = []\n",
    "\n",
    "    if n == 1:\n",
    "        primes.append(2)\n",
    "    elif n == 2:\n",
    "        primes.append(2)\n",
    "        primes.append(3)\n",
    "    else:\n",
    "        # adding 2 and 3 because it should be if the n is higher than 2.\n",
    "        primes.append(2)\n",
    "        primes.append(3)\n",
    "        size = 2\n",
    "        i = 4\n",
    "        # if size is not reached then keep going to find prime numbers by using special condition.\n",
    "        while size < n:\n",
    "            if ((i-1) % 6 == 0) | ((i+1) % 6 == 0):\n",
    "                primes.append(i)\n",
    "                size = size + 1\n",
    "            i = i + 1\n",
    "                    \n",
    "\n",
    "    return primes\n",
    "\n",
    "print(first_n_primes(10))"
   ]
  },
  {
   "cell_type": "markdown",
   "metadata": {},
   "source": [
    "## Exercise 3.5: Root finding"
   ]
  },
  {
   "cell_type": "markdown",
   "metadata": {},
   "source": [
    "### Suppose f is a continuous function and f(a) < 0 and f(b) > 0 for some known a and b. For simplicity, assume a < b. Then, there must exist some c such that f(c) = 0.\n",
    "\n",
    "### (a) Write a function root(f, a, b) that takes a function f and two floats a and b and returns the root c. Hint: check the sign at the midpoint of the interval."
   ]
  },
  {
   "cell_type": "code",
   "execution_count": 88,
   "metadata": {},
   "outputs": [
    {
     "name": "stdout",
     "output_type": "stream",
     "text": [
      "5.0\n"
     ]
    }
   ],
   "source": [
    "# Here I used the idea of Binary Search which look the middle point of interval between a and b. If value of f(mid)\n",
    "# is higher than 0 it assigns a as mid, if less than 0 then it assigns b as mid and continue its search until\n",
    "# mid f(mid) is 0.\n",
    "def root(f, a, b):\n",
    "    mid = 0\n",
    "    if a > b:\n",
    "        while a >= b:\n",
    "            mid = (a + b) / 2\n",
    "\n",
    "            if f(mid) > 0:\n",
    "                a = mid\n",
    "            elif f(mid) < 0:\n",
    "                b = mid\n",
    "            # if f(mid) is 0 then return the mid value.\n",
    "            else:\n",
    "                return mid\n",
    "    elif b > a:\n",
    "        while b >= a:\n",
    "            mid = (b + a) / 2\n",
    "\n",
    "            if f(mid) > 0:\n",
    "                b = mid\n",
    "            elif f(mid) < 0:\n",
    "                a = mid\n",
    "            else:\n",
    "                return mid\n",
    "    \n",
    "a = -2.0\n",
    "b = 7.0\n",
    "\n",
    "def func(x):\n",
    "    return 5 * x -25\n",
    "\n",
    "print(root(func, a, b))"
   ]
  },
  {
   "cell_type": "markdown",
   "metadata": {},
   "source": [
    "### (c) Add a check that prints\n",
    "       ’function evals have same sign’\n",
    "### if f(a) > 0 and f(b) > 0 or if f(a) < 0 and f(b) < 0."
   ]
  },
  {
   "cell_type": "code",
   "execution_count": 92,
   "metadata": {},
   "outputs": [
    {
     "name": "stdout",
     "output_type": "stream",
     "text": [
      "5.0\n"
     ]
    }
   ],
   "source": [
    "def root(f, a, b):\n",
    "    # Only this line of code is added.\n",
    "    if((f(a) > 0) & (f(b) > 0)) | ((f(a) < 0) & (f(b) < 0)):\n",
    "        print('function evals have same sign')\n",
    "        \n",
    "    mid = 0\n",
    "    if a > b:\n",
    "        while a >= b:\n",
    "            mid = (a + b) / 2\n",
    "\n",
    "            if f(mid) > 0:\n",
    "                a = mid\n",
    "            elif f(mid) < 0:\n",
    "                b = mid\n",
    "            # if f(mid) is 0 then return the mid value.\n",
    "            else:\n",
    "                return mid\n",
    "    elif b > a:\n",
    "        while b >= a:\n",
    "            mid = (b + a) / 2\n",
    "\n",
    "            if f(mid) > 0:\n",
    "                b = mid\n",
    "            elif f(mid) < 0:\n",
    "                a = mid\n",
    "            else:\n",
    "                return mid\n",
    "    \n",
    "a = -2.0\n",
    "b = 7.0\n",
    "\n",
    "def func(x):\n",
    "    return 5 * x -25\n",
    "\n",
    "print(root(func, a, b))"
   ]
  }
 ],
 "metadata": {
  "interpreter": {
   "hash": "aee8b7b246df8f9039afb4144a1f6fd8d2ca17a180786b69acc140d282b71a49"
  },
  "kernelspec": {
   "display_name": "Python 3.9.6 64-bit",
   "language": "python",
   "name": "python3"
  },
  "language_info": {
   "codemirror_mode": {
    "name": "ipython",
    "version": 3
   },
   "file_extension": ".py",
   "mimetype": "text/x-python",
   "name": "python",
   "nbconvert_exporter": "python",
   "pygments_lexer": "ipython3",
   "version": "3.9.6"
  },
  "orig_nbformat": 4
 },
 "nbformat": 4,
 "nbformat_minor": 2
}
