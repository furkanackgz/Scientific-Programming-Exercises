{
 "cells": [
  {
   "cell_type": "markdown",
   "metadata": {},
   "source": [
    "\n",
    "Nadi Furkan Açıkgöz, 20170808059 Exercise Answers"
   ]
  },
  {
   "cell_type": "markdown",
   "metadata": {},
   "source": [
    "# 1 Basics"
   ]
  },
  {
   "cell_type": "markdown",
   "metadata": {},
   "source": [
    "## Exercise 1.1 The interpreter"
   ]
  },
  {
   "cell_type": "markdown",
   "metadata": {},
   "source": [
    "a) it displays an output of 4 by simply adding those 3 and 1.\n",
    "\n",
    "b) it displays an output of 9 by simply multiplying 3 and 3.\n",
    "\n",
    "c) it displays an output of 8 by simply takes 2 to the 3rd power.\n",
    "\n",
    "d) it displays whatever between the quotation marks which in this case is Hello, world! .\n",
    "\n",
    "They worked because we directly use the python interpreter. Python interpreter directly converts it to machine language."
   ]
  },
  {
   "cell_type": "markdown",
   "metadata": {},
   "source": [
    "## Exercise 1.2: Scripts"
   ]
  },
  {
   "cell_type": "markdown",
   "metadata": {},
   "source": [
    "However, when we write the above codes into the script and try to run it with Integrated Development Environment(IDE) we need to use print() function to display on the screen."
   ]
  },
  {
   "cell_type": "markdown",
   "metadata": {},
   "source": [
    "## Exercise 1.3: More interpreter"
   ]
  },
  {
   "cell_type": "markdown",
   "metadata": {},
   "source": [
    "a) it simply concatenate'py' and 'thon' and display 'python'.\n",
    "\n",
    "b) it writes 'py' three times next to each other 'pypypy' and then concatenate it with 'thon' and display 'pypypython'\n",
    "\n",
    "c) Even though it can concatenate two strings using + sign, it cannot subscribe two strings from each other this operation is not supported. Both operands should be numerical to use - operation. We get TypeError: unsupported operand type(s) for -: 'str' and 'str'.\n",
    "\n",
    "d) This operation is also not supported by the interpreter because concatenation is only supported between strings and in this situation there is one string and one int so we get TypeError: can only concatenate str (not \"int\") to str.\n",
    "\n",
    "e) This situation is also writing '3' three times next to each other and we get an output of '333' to display.\n",
    "\n",
    "f) In this situation if we put a inside quotation marks then the interpreter would display 'a' but without a we get an NameError: name 'a' is not defined.\n",
    "\n",
    "g) In this situation we didn't get any error but interpreter didn't display it because we should have written a as well to display it after initializing it.\n",
    "\n",
    "h) And in here it displays 3 because in the previous step we initialize a variable with 3."
   ]
  },
  {
   "cell_type": "markdown",
   "metadata": {},
   "source": [
    "## Exercise 1.4: Booleans"
   ]
  },
  {
   "cell_type": "markdown",
   "metadata": {},
   "source": [
    "a) Interpreter returns true because both sides of the operation are the same numbers.\n",
    "\n",
    "b) In this situation it returns true as well because 1 means also True in lower levels of machine language. Both sides of the operation is also equals so this also return true.\n",
    "\n",
    "c) It returns false because while 1 is meaning true, 0 is false. So both sides of equation is different and we get false in this situation.\n",
    "\n",
    "d) And here we get true because of the reason I explained in previous question.\n",
    "\n",
    "e) It returns true because before interpreter looks the both sides of equation it performs the operation defined there and then do equality checking.\n",
    "\n",
    "f) The result for this statement is 0 because 3 is not equal to 1 so this result is false and also 0 and 0 times 3 is 0 but interpreter does not display it because this is not an actual statement to display.\n",
    "\n",
    "g) And in this one 3 equals 3 so we a true result which means 1 and after replacing it with 1 and doing the calculations on the left side of the very right of equality cheking operation, we get a false because the left side is 7 and the right one is 1.\n",
    "\n",
    "h) For this statement we get a false result because the left side of the operation is 3 to the power of 5 which is 243 is not bigger than and equal to 4 to the power of 4 which is 256."
   ]
  },
  {
   "cell_type": "markdown",
   "metadata": {},
   "source": [
    "## Exercise 1.5: Integers"
   ]
  },
  {
   "cell_type": "markdown",
   "metadata": {},
   "source": [
    "a) This is the division opearation. When we divide 5 to 3 the result will be floating number and the interpreter will display 1.66666 even though both of the operands are integer.\n",
    "\n",
    "b) This is modulus operation and it calculates the remainder of division of 5 to 3 which is 2.\n",
    "\n",
    "c) There is no difference between this operation and division of integers of 5 and 3. We also get the same result with question a which is floating point number 1.66666.\n",
    "\n",
    "d) For this one also there is no difference so we again get an answer of 1.6666 the same as previous one.\n",
    "\n",
    "e) The result of this operation is 2.2 because it is a modulus operation and the remainder of 5.2 when divided to 3 is 2.2.\n",
    "\n",
    "f) This an exponent operator and the result is int number because both base and the power is integer. So interpreter doesn't encounter an issue to interpret."
   ]
  },
  {
   "cell_type": "markdown",
   "metadata": {},
   "source": [
    "## Exercise 1.6: Floats"
   ]
  },
  {
   "cell_type": "markdown",
   "metadata": {},
   "source": [
    "a) In this case because base is an float number the result will also be a float number instead of integer compared to above question. When it is float, the size of result would be too large and we get an OverflowError: (34, 'Result too large').\n",
    "\n",
    "b) The result is 1.0 which is float because all the numbers are float and their sizes are equal.\n",
    "\n",
    "c) The result is 0.0 because when we add 1.0 with 1.0e20 (which corresponds to 10^20), the result will be 1.0 because 1.0e20 is a very huge number so adding 1.0 to it will not put a very big affect on it. So, after that adding we get 1.0e20 and subtracting it with the 1.0e20 will give the floating point of 0.0 ."
   ]
  },
  {
   "cell_type": "markdown",
   "metadata": {},
   "source": [
    "## Exercise 1.7: Variables"
   ]
  },
  {
   "cell_type": "code",
   "execution_count": 3,
   "metadata": {},
   "outputs": [
    {
     "name": "stdout",
     "output_type": "stream",
     "text": [
      "Hello, John Doe!\n"
     ]
    }
   ],
   "source": [
    "name = \"John Doe\"\n",
    "print(\"Hello,\", name + '!')"
   ]
  },
  {
   "cell_type": "markdown",
   "metadata": {},
   "source": [
    "## Exercise 1.8: Type casting"
   ]
  },
  {
   "cell_type": "markdown",
   "metadata": {},
   "source": [
    "a) Float casting of int 123 will result as 123.0 because we convert it from int to float.\n",
    "\n",
    "b) Float casting of string '123' will result as 123.0 again with no error because converting it from string of int to float is okay.\n",
    "\n",
    "c) After this casting we also get 123.23 because it's string of float so converting it from string to float will be okay as previous one.\n",
    "\n",
    "d) When we try to convert from flating point number to int we lose the floating points after converting so in this result we get integer 123.\n",
    "\n",
    "e) However, in this case because it is a string of int and the type we want to convert it is float, there will occur an error because int inside quotation marks is not in the base of 10. And the error we get is ValueError: invalid literal for int() with base 10: '123.23'.\n",
    "\n",
    "f) And the solution to the previous problem is this one. Before casting string of float to integer we should first convert it to float and then converting to int will give the desired output for losing the floating points of the number.\n",
    "\n",
    "g) We can convert an int to a string without a problem the result will be '12'.\n",
    "\n",
    "h) We can also convert a float number to a string without a problem the result will be '12.2'\n",
    "\n",
    "i) The result will be True because any non-empty strings are considered as True but an empty string is False.\n",
    "\n",
    "j) The result will be False because any number that is not 0 whether it is int or float will be True but 0 will be False.\n",
    "\n",
    "k) The result will be True because of the reason I explained in previous answer that any number rather than 0 will be true."
   ]
  },
  {
   "cell_type": "markdown",
   "metadata": {},
   "source": [
    "# 2 Control flow"
   ]
  },
  {
   "cell_type": "markdown",
   "metadata": {},
   "source": [
    "## Exercise 2.1: Range"
   ]
  },
  {
   "cell_type": "markdown",
   "metadata": {},
   "source": [
    "range(5) returns a list of elements which starts with 0 and stops at specified number which is not included.\n",
    "And for i in range(5) means we want to repeat block of code for a specific number of times starting from one number until reaching the other. In this case starting from 0 to 4 not including 5.\n",
    "\n",
    "When I typed type(range(5)), it returns range object which holds start, stop and step values and it produces numbers one by one as the loop moves to the next iteration."
   ]
  },
  {
   "cell_type": "markdown",
   "metadata": {},
   "source": [
    "## Exercise 2.2: For loops"
   ]
  },
  {
   "cell_type": "markdown",
   "metadata": {},
   "source": [
    "### (a) Print the numbers 0 to 100"
   ]
  },
  {
   "cell_type": "code",
   "execution_count": null,
   "metadata": {},
   "outputs": [],
   "source": [
    "for i in range(100):\n",
    "    print(i)"
   ]
  },
  {
   "cell_type": "markdown",
   "metadata": {},
   "source": [
    "### (b) Print the numbers 0 to 100 that are divisible by 7"
   ]
  },
  {
   "cell_type": "code",
   "execution_count": null,
   "metadata": {},
   "outputs": [],
   "source": [
    "for i in range(100):\n",
    "    if i % 7 == 0:\n",
    "        print(i)"
   ]
  },
  {
   "cell_type": "markdown",
   "metadata": {},
   "source": [
    "### (c) Print the numbers 1 to 100 that are divisible by 5 but not by 3"
   ]
  },
  {
   "cell_type": "code",
   "execution_count": null,
   "metadata": {},
   "outputs": [],
   "source": [
    "for i in range(100):\n",
    "    if (i % 5 ==  0) & (i % 3 != 0):\n",
    "        print(i)"
   ]
  },
  {
   "cell_type": "markdown",
   "metadata": {},
   "source": [
    "### (d) Print for each of the numbers x = 2, . . . 20, all numbers that divide x, excluding 1 and x. Hence, for 18, it should print 2 3 6 9."
   ]
  },
  {
   "cell_type": "code",
   "execution_count": null,
   "metadata": {},
   "outputs": [],
   "source": [
    "for i in range(2,21):\n",
    "    print(f'{i}: ', end='')\n",
    "    for j in range(2,21):\n",
    "        if (i % j == 0) & (i != j):\n",
    "            print(j, end =',')\n",
    "    print()"
   ]
  },
  {
   "cell_type": "markdown",
   "metadata": {},
   "source": [
    "## Exercise 2.3: Simple while loops"
   ]
  },
  {
   "cell_type": "markdown",
   "metadata": {},
   "source": [
    "### (a) Print the numbers 0 to 100\n"
   ]
  },
  {
   "cell_type": "code",
   "execution_count": null,
   "metadata": {},
   "outputs": [],
   "source": [
    "i = 0\n",
    "while i < 100:\n",
    "    print(i, end=' ')    \n",
    "    i = i + 1"
   ]
  },
  {
   "cell_type": "markdown",
   "metadata": {},
   "source": [
    "### (b) Print the numbers 0 to 100 that are divisible by 7"
   ]
  },
  {
   "cell_type": "code",
   "execution_count": null,
   "metadata": {},
   "outputs": [],
   "source": [
    "i = 0\n",
    "while i < 100:\n",
    "    if i % 7 == 0:\n",
    "        print(i , end=' ')\n",
    "    i = i + 1"
   ]
  },
  {
   "cell_type": "markdown",
   "metadata": {},
   "source": [
    "## Exercise 2.4: Hangman update 1"
   ]
  },
  {
   "cell_type": "code",
   "execution_count": null,
   "metadata": {},
   "outputs": [],
   "source": []
  },
  {
   "cell_type": "markdown",
   "metadata": {},
   "source": [
    "## Exercise 2.5: While loops"
   ]
  },
  {
   "cell_type": "markdown",
   "metadata": {},
   "source": [
    "### Use a while loop to find the first 20 numbers that are divisible by 5, 7 and 11, and print them Hint: store the number found so far in a variable."
   ]
  },
  {
   "cell_type": "code",
   "execution_count": 24,
   "metadata": {},
   "outputs": [
    {
     "name": "stdout",
     "output_type": "stream",
     "text": [
      "385 770 1155 1540 1925 2310 2695 3080 3465 3850 4235 4620 5005 5390 5775 6160 6545 6930 7315 7700 "
     ]
    }
   ],
   "source": [
    "number_found = 0\n",
    "x = 11\n",
    "\n",
    "while number_found < 20:\n",
    "    if (x % 5 == 0) & (x % 7 == 0) & (x % 11 == 0):\n",
    "        print(x, end = ' ')\n",
    "        number_found = number_found + 1\n",
    "    x = x + 1"
   ]
  },
  {
   "cell_type": "markdown",
   "metadata": {},
   "source": [
    "## Exercise 2.6: More while loops"
   ]
  },
  {
   "cell_type": "markdown",
   "metadata": {},
   "source": [
    "### The smallest number that is divisible by 2, 3 and 4 is 12. Find the smallest number that is divisible by all integers between 1 and 10."
   ]
  },
  {
   "cell_type": "code",
   "execution_count": null,
   "metadata": {},
   "outputs": [],
   "source": [
    "num = 1\n",
    "x = True\n",
    "i = 0\n",
    "dividends = [j+1 for j in range(10)]\n",
    "\n",
    "while x:\n",
    "    if num % dividends[i] == 0 :\n",
    "        if i != 9:\n",
    "            i = i +1\n",
    "        else:\n",
    "            x = False\n",
    "    else:\n",
    "        num = num + 1\n",
    "        i = 0\n",
    "\n",
    "print(f'The number is {num}!')"
   ]
  },
  {
   "cell_type": "markdown",
   "metadata": {},
   "source": [
    "## Exercise 2.7: Collatz sequence"
   ]
  },
  {
   "cell_type": "markdown",
   "metadata": {},
   "source": [
    "A Collatz sequence is formed as follows: We start with some number x_0, and we find the next number in the sequence by\n",
    "                   {x_(i)/2, if x_(i) is even \n",
    "        x_(i+1) = {\n",
    "                   {3x_(i)+1, ifx_(i) isodd\n",
    "If xi = 1, we stop iterating and have found the full sequence.\n",
    "For example, if we start with x_0 = 5, we obtain the sequence:\n",
    "5 16 8 4 2 1\n",
    "It is conjectured, though not proven, that every chain eventually ends at 1.\n",
    "Print the Collatz sequence starting at x0 = 103."
   ]
  },
  {
   "cell_type": "code",
   "execution_count": null,
   "metadata": {},
   "outputs": [],
   "source": [
    "x = 103\n",
    "while x > 1:\n",
    "    print(x, end = \" \")\n",
    "    if x % 2 == 0:\n",
    "        x = int(x / 2)\n",
    "    else:\n",
    "        x = 3 * x +1\n",
    "print(x)"
   ]
  }
 ],
 "metadata": {
  "interpreter": {
   "hash": "aee8b7b246df8f9039afb4144a1f6fd8d2ca17a180786b69acc140d282b71a49"
  },
  "kernelspec": {
   "display_name": "Python 3.9.6 64-bit",
   "language": "python",
   "name": "python3"
  },
  "language_info": {
   "codemirror_mode": {
    "name": "ipython",
    "version": 3
   },
   "file_extension": ".py",
   "mimetype": "text/x-python",
   "name": "python",
   "nbconvert_exporter": "python",
   "pygments_lexer": "ipython3",
   "version": "3.9.6"
  },
  "orig_nbformat": 4
 },
 "nbformat": 4,
 "nbformat_minor": 2
}
