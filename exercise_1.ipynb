{
 "cells": [
  {
   "cell_type": "markdown",
   "metadata": {},
   "source": [
    "\n",
    "Nadi Furkan Açıkgöz, 20170808059 Exercise Answers"
   ]
  },
  {
   "cell_type": "markdown",
   "metadata": {},
   "source": [
    "Exercise 1.1 The interpreter"
   ]
  },
  {
   "cell_type": "markdown",
   "metadata": {},
   "source": [
    "a) it displays an output of 4 by simply adding those 3 and 1.\n",
    "\n",
    "b) it displays an output of 9 by simply multiplying 3 and 3.\n",
    "\n",
    "c) it displays an output of 8 by simply takes 2 to the 3rd power.\n",
    "\n",
    "d) it displays whatever between the quotation marks which in this case is Hello, world! .\n",
    "\n",
    "They worked because we directly use the python interpreter. Python interpreter directly converts it to machine language."
   ]
  },
  {
   "cell_type": "markdown",
   "metadata": {},
   "source": [
    "Exercise 1.2: Scripts"
   ]
  },
  {
   "cell_type": "markdown",
   "metadata": {},
   "source": [
    "However, when we write the above codes into the script and try to run it with Integrated Development Environment(IDE) we need to use print() function to display on the screen."
   ]
  },
  {
   "cell_type": "markdown",
   "metadata": {},
   "source": [
    "Exercise 1.3: More interpreter"
   ]
  },
  {
   "cell_type": "markdown",
   "metadata": {},
   "source": [
    "a) it simply concatenate'py' and 'thon' and display 'python'.\n",
    "\n",
    "b) it writes 'py' three times next to each other 'pypypy' and then concatenate it with 'thon' and display 'pypypython'\n",
    "\n",
    "c) Even though it can concatenate two strings using + sign, it cannot subscribe two strings from each other this operation is not supported. Both operands should be numerical to use - operation. We get TypeError: unsupported operand type(s) for -: 'str' and 'str'.\n",
    "\n",
    "d) This operation is also not supported by the interpreter because concatenation is only supported between strings and in this situation there is one string and one int so we get TypeError: can only concatenate str (not \"int\") to str.\n",
    "\n",
    "e) This situation is also writing '3' three times next to each other and we get an output of '333' to display.\n",
    "\n",
    "f) In this situation if we put a inside quotation marks then the interpreter would display 'a' but without a we get an NameError: name 'a' is not defined.\n",
    "\n",
    "g) In this situation we didn't get any error but interpreter didn't display it because we should have written a as well to display it after initializing it.\n",
    "\n",
    "h) And in here it displays 3 because in the previous step we initialize a variable with 3."
   ]
  },
  {
   "cell_type": "markdown",
   "metadata": {},
   "source": [
    "Exercise 1.4: Booleans"
   ]
  },
  {
   "cell_type": "markdown",
   "metadata": {},
   "source": [
    "a) Interpreter returns true because both sides of the operation are the same numbers.\n",
    "\n",
    "b) In this situation it returns true as well because 1 means also True in lower levels of machine language. Both sides of the operation is also equals so this also return true.\n",
    "\n",
    "c) It returns false because while 1 is meaning true, 0 is false. So both sides of equation is different and we get false in this situation.\n",
    "\n",
    "d) And here we get true because of the reason I explained in previous question.\n",
    "\n",
    "e) It returns true because before interpreter looks the both sides of equation it performs the operation defined there and then do equality checking.\n",
    "\n",
    "f) The result for this statement is 0 because 3 is not equal to 1 so this result is false and also 0 and 0 times 3 is 0 but interpreter does not display it because this is not an actual statement to display.\n",
    "\n",
    "g) And in this one 3 equals 3 so we a true result which means 1 and after replacing it with 1 and doing the calculations on the left side of the very right of equality cheking operation, we get a false because the left side is 7 and the right one is 1.\n",
    "\n",
    "h) For this statement we get a false result because the left side of the operation is 3 to the power of 5 which is 243 is not bigger than and equal to 4 to the power of 4 which is 256."
   ]
  },
  {
   "cell_type": "markdown",
   "metadata": {},
   "source": [
    "Exercise 1.5: Integers"
   ]
  },
  {
   "cell_type": "markdown",
   "metadata": {},
   "source": [
    "a) This is the division opearation. When we divide 5 to 3 the result will be floating number and the interpreter will display 1.66666 even though both of the operands are integer.\n",
    "\n",
    "b) This is modulus operation and it calculates the remainder of division of 5 to 3 which is 2.\n",
    "\n",
    "c) There is no difference between this operation and division of integers of 5 and 3. We also get the same result with question a which is floating point number 1.66666.\n",
    "\n",
    "d) For this one also there is no difference so we again get an answer of 1.6666 the same as previous one.\n",
    "\n",
    "e) The result of this operation is 2.2 because it is a modulus operation and the remainder of 5.2 when divided to 3 is 2.2.\n",
    "\n",
    "f) This an exponent operator and the result is int number because both base and the power is integer. So interpreter doesn't encounter an issue to interpret."
   ]
  },
  {
   "cell_type": "markdown",
   "metadata": {},
   "source": [
    "Exercise 1.6: Floats"
   ]
  },
  {
   "cell_type": "markdown",
   "metadata": {},
   "source": [
    "a) In this case because base is an float number the result will also be a float number instead of integer compared to above question. When it is float, the size of result would be too large and we get an OverflowError: (34, 'Result too large').\n",
    "\n",
    "b) The result is 1.0 which is float because all the numbers are float and their sizes are equal.\n",
    "\n",
    "c) The result is 0.0 because when we add 1.0 with 1.0e20 (which corresponds to 10^20), the result will be 1.0 because 1.0e20 is a very huge number so adding 1.0 to it will not put a very big affect on it. So, after that adding we get 1.0e20 and subtracting it with the 1.0e20 will give the floating point of 0.0 ."
   ]
  },
  {
   "cell_type": "markdown",
   "metadata": {},
   "source": [
    "Exercise 1.7: Variables"
   ]
  },
  {
   "cell_type": "code",
   "execution_count": 14,
   "metadata": {},
   "outputs": [
    {
     "name": "stdout",
     "output_type": "stream",
     "text": [
      "Hello, John Doe!\n"
     ]
    }
   ],
   "source": [
    "name = \"John Doe\"\n",
    "print(\"Hello,\", name + '!')"
   ]
  },
  {
   "cell_type": "markdown",
   "metadata": {},
   "source": [
    "Exercise 1.8: Type casting"
   ]
  },
  {
   "cell_type": "markdown",
   "metadata": {},
   "source": [
    "a) Float casting of int 123 will result as 123.0 because we convert it from int to float.\n",
    "\n",
    "b) Float casting of string '123' will result as 123.0 again with no error because converting it from string of int to float is okay.\n",
    "\n",
    "c) After this casting we also get 123.23 because it's string of float so converting it from string to float will be okay as previous one.\n",
    "\n",
    "d) When we try to convert from flating point number to int we lose the floating points after converting so in this result we get integer 123.\n",
    "\n",
    "e) However, in this case because it is a string of int and the type we want to convert it is float, there will occur an error because int inside quotation marks is not in the base of 10. And the error we get is ValueError: invalid literal for int() with base 10: '123.23'.\n",
    "\n",
    "f) And the solution to the previous problem is this one. Before casting string of float to integer we should first convert it to float and then converting to int will give the desired output for losing the floating points of the number.\n",
    "\n",
    "g) We can convert an int to a string without a problem the result will be '12'.\n",
    "\n",
    "h) We can also convert a float number to a string without a problem the result will be '12.2'\n",
    "\n",
    "i) The result will be True because any non-empty strings are considered as True but an empty string is False.\n",
    "\n",
    "j) The result will be False because any number that is not 0 whether it is int or float will be True but 0 will be False.\n",
    "\n",
    "k) The result will be True because of the reason I explained in previous answer that any number rather than 0 will be true."
   ]
  }
 ],
 "metadata": {
  "interpreter": {
   "hash": "aee8b7b246df8f9039afb4144a1f6fd8d2ca17a180786b69acc140d282b71a49"
  },
  "kernelspec": {
   "display_name": "Python 3.9.6 64-bit",
   "language": "python",
   "name": "python3"
  },
  "language_info": {
   "codemirror_mode": {
    "name": "ipython",
    "version": 3
   },
   "file_extension": ".py",
   "mimetype": "text/x-python",
   "name": "python",
   "nbconvert_exporter": "python",
   "pygments_lexer": "ipython3",
   "version": "3.9.6"
  },
  "orig_nbformat": 4
 },
 "nbformat": 4,
 "nbformat_minor": 2
}
